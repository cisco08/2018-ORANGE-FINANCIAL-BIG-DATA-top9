{
  "nbformat": 4,
  "nbformat_minor": 0,
  "metadata": {
    "colab": {
      "name": "PyTorch/TPU MNIST Training",
      "provenance": [],
      "collapsed_sections": [],
      "machine_shape": "hm",
      "include_colab_link": true
    },
    "kernelspec": {
      "name": "python3",
      "display_name": "Python 3"
    },
    "accelerator": "TPU",
    "widgets": {
      "application/vnd.jupyter.widget-state+json": {
        "a01c8c039f214a96b177f1a22b112cee": {
          "model_module": "@jupyter-widgets/controls",
          "model_name": "HBoxModel",
          "model_module_version": "1.5.0",
          "state": {
            "_view_name": "HBoxView",
            "_dom_classes": [],
            "_model_name": "HBoxModel",
            "_view_module": "@jupyter-widgets/controls",
            "_model_module_version": "1.5.0",
            "_view_count": null,
            "_view_module_version": "1.5.0",
            "box_style": "",
            "layout": "IPY_MODEL_1cc03127de824d5fa4bb1bfba2708113",
            "_model_module": "@jupyter-widgets/controls",
            "children": [
              "IPY_MODEL_4268b4a073984338b1e237199d905814",
              "IPY_MODEL_546c0530565c45988b975ac369458e45",
              "IPY_MODEL_782ae4648a144bfbb46b8834d916c339"
            ]
          }
        },
        "1cc03127de824d5fa4bb1bfba2708113": {
          "model_module": "@jupyter-widgets/base",
          "model_name": "LayoutModel",
          "model_module_version": "1.2.0",
          "state": {
            "_view_name": "LayoutView",
            "grid_template_rows": null,
            "right": null,
            "justify_content": null,
            "_view_module": "@jupyter-widgets/base",
            "overflow": null,
            "_model_module_version": "1.2.0",
            "_view_count": null,
            "flex_flow": null,
            "width": null,
            "min_width": null,
            "border": null,
            "align_items": null,
            "bottom": null,
            "_model_module": "@jupyter-widgets/base",
            "top": null,
            "grid_column": null,
            "overflow_y": null,
            "overflow_x": null,
            "grid_auto_flow": null,
            "grid_area": null,
            "grid_template_columns": null,
            "flex": null,
            "_model_name": "LayoutModel",
            "justify_items": null,
            "grid_row": null,
            "max_height": null,
            "align_content": null,
            "visibility": null,
            "align_self": null,
            "height": null,
            "min_height": null,
            "padding": null,
            "grid_auto_rows": null,
            "grid_gap": null,
            "max_width": null,
            "order": null,
            "_view_module_version": "1.2.0",
            "grid_template_areas": null,
            "object_position": null,
            "object_fit": null,
            "grid_auto_columns": null,
            "margin": null,
            "display": null,
            "left": null
          }
        },
        "4268b4a073984338b1e237199d905814": {
          "model_module": "@jupyter-widgets/controls",
          "model_name": "HTMLModel",
          "model_module_version": "1.5.0",
          "state": {
            "_view_name": "HTMLView",
            "style": "IPY_MODEL_18b07774242349f1a2daad9b2ca6691d",
            "_dom_classes": [],
            "description": "",
            "_model_name": "HTMLModel",
            "placeholder": "​",
            "_view_module": "@jupyter-widgets/controls",
            "_model_module_version": "1.5.0",
            "value": "",
            "_view_count": null,
            "_view_module_version": "1.5.0",
            "description_tooltip": null,
            "_model_module": "@jupyter-widgets/controls",
            "layout": "IPY_MODEL_443e300d8cd049c7877ea534456fe6ed"
          }
        },
        "546c0530565c45988b975ac369458e45": {
          "model_module": "@jupyter-widgets/controls",
          "model_name": "FloatProgressModel",
          "model_module_version": "1.5.0",
          "state": {
            "_view_name": "ProgressView",
            "style": "IPY_MODEL_5cbbf7d582eb4ab29f442ca13227ee71",
            "_dom_classes": [],
            "description": "",
            "_model_name": "FloatProgressModel",
            "bar_style": "success",
            "max": 9912422,
            "_view_module": "@jupyter-widgets/controls",
            "_model_module_version": "1.5.0",
            "value": 9912422,
            "_view_count": null,
            "_view_module_version": "1.5.0",
            "orientation": "horizontal",
            "min": 0,
            "description_tooltip": null,
            "_model_module": "@jupyter-widgets/controls",
            "layout": "IPY_MODEL_d278e4ebc5b749e2b5efce220fe46112"
          }
        },
        "782ae4648a144bfbb46b8834d916c339": {
          "model_module": "@jupyter-widgets/controls",
          "model_name": "HTMLModel",
          "model_module_version": "1.5.0",
          "state": {
            "_view_name": "HTMLView",
            "style": "IPY_MODEL_11cfa2a4f47440799a01155b76dc0f1b",
            "_dom_classes": [],
            "description": "",
            "_model_name": "HTMLModel",
            "placeholder": "​",
            "_view_module": "@jupyter-widgets/controls",
            "_model_module_version": "1.5.0",
            "value": " 9913344/? [00:00&lt;00:00, 16611703.61it/s]",
            "_view_count": null,
            "_view_module_version": "1.5.0",
            "description_tooltip": null,
            "_model_module": "@jupyter-widgets/controls",
            "layout": "IPY_MODEL_6bd0b92de0f541f69a600ebcdb7c5439"
          }
        },
        "18b07774242349f1a2daad9b2ca6691d": {
          "model_module": "@jupyter-widgets/controls",
          "model_name": "DescriptionStyleModel",
          "model_module_version": "1.5.0",
          "state": {
            "_view_name": "StyleView",
            "_model_name": "DescriptionStyleModel",
            "description_width": "",
            "_view_module": "@jupyter-widgets/base",
            "_model_module_version": "1.5.0",
            "_view_count": null,
            "_view_module_version": "1.2.0",
            "_model_module": "@jupyter-widgets/controls"
          }
        },
        "443e300d8cd049c7877ea534456fe6ed": {
          "model_module": "@jupyter-widgets/base",
          "model_name": "LayoutModel",
          "model_module_version": "1.2.0",
          "state": {
            "_view_name": "LayoutView",
            "grid_template_rows": null,
            "right": null,
            "justify_content": null,
            "_view_module": "@jupyter-widgets/base",
            "overflow": null,
            "_model_module_version": "1.2.0",
            "_view_count": null,
            "flex_flow": null,
            "width": null,
            "min_width": null,
            "border": null,
            "align_items": null,
            "bottom": null,
            "_model_module": "@jupyter-widgets/base",
            "top": null,
            "grid_column": null,
            "overflow_y": null,
            "overflow_x": null,
            "grid_auto_flow": null,
            "grid_area": null,
            "grid_template_columns": null,
            "flex": null,
            "_model_name": "LayoutModel",
            "justify_items": null,
            "grid_row": null,
            "max_height": null,
            "align_content": null,
            "visibility": null,
            "align_self": null,
            "height": null,
            "min_height": null,
            "padding": null,
            "grid_auto_rows": null,
            "grid_gap": null,
            "max_width": null,
            "order": null,
            "_view_module_version": "1.2.0",
            "grid_template_areas": null,
            "object_position": null,
            "object_fit": null,
            "grid_auto_columns": null,
            "margin": null,
            "display": null,
            "left": null
          }
        },
        "5cbbf7d582eb4ab29f442ca13227ee71": {
          "model_module": "@jupyter-widgets/controls",
          "model_name": "ProgressStyleModel",
          "model_module_version": "1.5.0",
          "state": {
            "_view_name": "StyleView",
            "_model_name": "ProgressStyleModel",
            "description_width": "",
            "_view_module": "@jupyter-widgets/base",
            "_model_module_version": "1.5.0",
            "_view_count": null,
            "_view_module_version": "1.2.0",
            "bar_color": null,
            "_model_module": "@jupyter-widgets/controls"
          }
        },
        "d278e4ebc5b749e2b5efce220fe46112": {
          "model_module": "@jupyter-widgets/base",
          "model_name": "LayoutModel",
          "model_module_version": "1.2.0",
          "state": {
            "_view_name": "LayoutView",
            "grid_template_rows": null,
            "right": null,
            "justify_content": null,
            "_view_module": "@jupyter-widgets/base",
            "overflow": null,
            "_model_module_version": "1.2.0",
            "_view_count": null,
            "flex_flow": null,
            "width": null,
            "min_width": null,
            "border": null,
            "align_items": null,
            "bottom": null,
            "_model_module": "@jupyter-widgets/base",
            "top": null,
            "grid_column": null,
            "overflow_y": null,
            "overflow_x": null,
            "grid_auto_flow": null,
            "grid_area": null,
            "grid_template_columns": null,
            "flex": null,
            "_model_name": "LayoutModel",
            "justify_items": null,
            "grid_row": null,
            "max_height": null,
            "align_content": null,
            "visibility": null,
            "align_self": null,
            "height": null,
            "min_height": null,
            "padding": null,
            "grid_auto_rows": null,
            "grid_gap": null,
            "max_width": null,
            "order": null,
            "_view_module_version": "1.2.0",
            "grid_template_areas": null,
            "object_position": null,
            "object_fit": null,
            "grid_auto_columns": null,
            "margin": null,
            "display": null,
            "left": null
          }
        },
        "11cfa2a4f47440799a01155b76dc0f1b": {
          "model_module": "@jupyter-widgets/controls",
          "model_name": "DescriptionStyleModel",
          "model_module_version": "1.5.0",
          "state": {
            "_view_name": "StyleView",
            "_model_name": "DescriptionStyleModel",
            "description_width": "",
            "_view_module": "@jupyter-widgets/base",
            "_model_module_version": "1.5.0",
            "_view_count": null,
            "_view_module_version": "1.2.0",
            "_model_module": "@jupyter-widgets/controls"
          }
        },
        "6bd0b92de0f541f69a600ebcdb7c5439": {
          "model_module": "@jupyter-widgets/base",
          "model_name": "LayoutModel",
          "model_module_version": "1.2.0",
          "state": {
            "_view_name": "LayoutView",
            "grid_template_rows": null,
            "right": null,
            "justify_content": null,
            "_view_module": "@jupyter-widgets/base",
            "overflow": null,
            "_model_module_version": "1.2.0",
            "_view_count": null,
            "flex_flow": null,
            "width": null,
            "min_width": null,
            "border": null,
            "align_items": null,
            "bottom": null,
            "_model_module": "@jupyter-widgets/base",
            "top": null,
            "grid_column": null,
            "overflow_y": null,
            "overflow_x": null,
            "grid_auto_flow": null,
            "grid_area": null,
            "grid_template_columns": null,
            "flex": null,
            "_model_name": "LayoutModel",
            "justify_items": null,
            "grid_row": null,
            "max_height": null,
            "align_content": null,
            "visibility": null,
            "align_self": null,
            "height": null,
            "min_height": null,
            "padding": null,
            "grid_auto_rows": null,
            "grid_gap": null,
            "max_width": null,
            "order": null,
            "_view_module_version": "1.2.0",
            "grid_template_areas": null,
            "object_position": null,
            "object_fit": null,
            "grid_auto_columns": null,
            "margin": null,
            "display": null,
            "left": null
          }
        },
        "cfa28a9ed2a04a979365401a4e0ae91d": {
          "model_module": "@jupyter-widgets/controls",
          "model_name": "HBoxModel",
          "model_module_version": "1.5.0",
          "state": {
            "_view_name": "HBoxView",
            "_dom_classes": [],
            "_model_name": "HBoxModel",
            "_view_module": "@jupyter-widgets/controls",
            "_model_module_version": "1.5.0",
            "_view_count": null,
            "_view_module_version": "1.5.0",
            "box_style": "",
            "layout": "IPY_MODEL_ce4ceb4abdb54b9e86bf98df781d571d",
            "_model_module": "@jupyter-widgets/controls",
            "children": [
              "IPY_MODEL_c32eb0969704463cb46a5c0e1ddae147",
              "IPY_MODEL_72c5530053e0494c9bd8a1ceaaf3984e",
              "IPY_MODEL_7b97313bea824d4987134ce6c944503a"
            ]
          }
        },
        "ce4ceb4abdb54b9e86bf98df781d571d": {
          "model_module": "@jupyter-widgets/base",
          "model_name": "LayoutModel",
          "model_module_version": "1.2.0",
          "state": {
            "_view_name": "LayoutView",
            "grid_template_rows": null,
            "right": null,
            "justify_content": null,
            "_view_module": "@jupyter-widgets/base",
            "overflow": null,
            "_model_module_version": "1.2.0",
            "_view_count": null,
            "flex_flow": null,
            "width": null,
            "min_width": null,
            "border": null,
            "align_items": null,
            "bottom": null,
            "_model_module": "@jupyter-widgets/base",
            "top": null,
            "grid_column": null,
            "overflow_y": null,
            "overflow_x": null,
            "grid_auto_flow": null,
            "grid_area": null,
            "grid_template_columns": null,
            "flex": null,
            "_model_name": "LayoutModel",
            "justify_items": null,
            "grid_row": null,
            "max_height": null,
            "align_content": null,
            "visibility": null,
            "align_self": null,
            "height": null,
            "min_height": null,
            "padding": null,
            "grid_auto_rows": null,
            "grid_gap": null,
            "max_width": null,
            "order": null,
            "_view_module_version": "1.2.0",
            "grid_template_areas": null,
            "object_position": null,
            "object_fit": null,
            "grid_auto_columns": null,
            "margin": null,
            "display": null,
            "left": null
          }
        },
        "c32eb0969704463cb46a5c0e1ddae147": {
          "model_module": "@jupyter-widgets/controls",
          "model_name": "HTMLModel",
          "model_module_version": "1.5.0",
          "state": {
            "_view_name": "HTMLView",
            "style": "IPY_MODEL_e393e798cc4345458ba57acb277ca83b",
            "_dom_classes": [],
            "description": "",
            "_model_name": "HTMLModel",
            "placeholder": "​",
            "_view_module": "@jupyter-widgets/controls",
            "_model_module_version": "1.5.0",
            "value": "",
            "_view_count": null,
            "_view_module_version": "1.5.0",
            "description_tooltip": null,
            "_model_module": "@jupyter-widgets/controls",
            "layout": "IPY_MODEL_148c9f470b1443f688b8f83b8b35f4d9"
          }
        },
        "72c5530053e0494c9bd8a1ceaaf3984e": {
          "model_module": "@jupyter-widgets/controls",
          "model_name": "FloatProgressModel",
          "model_module_version": "1.5.0",
          "state": {
            "_view_name": "ProgressView",
            "style": "IPY_MODEL_7cbcf2ee1e3c419fbc535c4ecb84a858",
            "_dom_classes": [],
            "description": "",
            "_model_name": "FloatProgressModel",
            "bar_style": "success",
            "max": 28881,
            "_view_module": "@jupyter-widgets/controls",
            "_model_module_version": "1.5.0",
            "value": 28881,
            "_view_count": null,
            "_view_module_version": "1.5.0",
            "orientation": "horizontal",
            "min": 0,
            "description_tooltip": null,
            "_model_module": "@jupyter-widgets/controls",
            "layout": "IPY_MODEL_743818f84f0c44edb2f246e43f381a96"
          }
        },
        "7b97313bea824d4987134ce6c944503a": {
          "model_module": "@jupyter-widgets/controls",
          "model_name": "HTMLModel",
          "model_module_version": "1.5.0",
          "state": {
            "_view_name": "HTMLView",
            "style": "IPY_MODEL_3eac844f5af7429292ae7ca454d107cc",
            "_dom_classes": [],
            "description": "",
            "_model_name": "HTMLModel",
            "placeholder": "​",
            "_view_module": "@jupyter-widgets/controls",
            "_model_module_version": "1.5.0",
            "value": " 29696/? [00:00&lt;00:00, 416322.28it/s]",
            "_view_count": null,
            "_view_module_version": "1.5.0",
            "description_tooltip": null,
            "_model_module": "@jupyter-widgets/controls",
            "layout": "IPY_MODEL_b5b2d666fc2a4e00afcc4482b8230b50"
          }
        },
        "e393e798cc4345458ba57acb277ca83b": {
          "model_module": "@jupyter-widgets/controls",
          "model_name": "DescriptionStyleModel",
          "model_module_version": "1.5.0",
          "state": {
            "_view_name": "StyleView",
            "_model_name": "DescriptionStyleModel",
            "description_width": "",
            "_view_module": "@jupyter-widgets/base",
            "_model_module_version": "1.5.0",
            "_view_count": null,
            "_view_module_version": "1.2.0",
            "_model_module": "@jupyter-widgets/controls"
          }
        },
        "148c9f470b1443f688b8f83b8b35f4d9": {
          "model_module": "@jupyter-widgets/base",
          "model_name": "LayoutModel",
          "model_module_version": "1.2.0",
          "state": {
            "_view_name": "LayoutView",
            "grid_template_rows": null,
            "right": null,
            "justify_content": null,
            "_view_module": "@jupyter-widgets/base",
            "overflow": null,
            "_model_module_version": "1.2.0",
            "_view_count": null,
            "flex_flow": null,
            "width": null,
            "min_width": null,
            "border": null,
            "align_items": null,
            "bottom": null,
            "_model_module": "@jupyter-widgets/base",
            "top": null,
            "grid_column": null,
            "overflow_y": null,
            "overflow_x": null,
            "grid_auto_flow": null,
            "grid_area": null,
            "grid_template_columns": null,
            "flex": null,
            "_model_name": "LayoutModel",
            "justify_items": null,
            "grid_row": null,
            "max_height": null,
            "align_content": null,
            "visibility": null,
            "align_self": null,
            "height": null,
            "min_height": null,
            "padding": null,
            "grid_auto_rows": null,
            "grid_gap": null,
            "max_width": null,
            "order": null,
            "_view_module_version": "1.2.0",
            "grid_template_areas": null,
            "object_position": null,
            "object_fit": null,
            "grid_auto_columns": null,
            "margin": null,
            "display": null,
            "left": null
          }
        },
        "7cbcf2ee1e3c419fbc535c4ecb84a858": {
          "model_module": "@jupyter-widgets/controls",
          "model_name": "ProgressStyleModel",
          "model_module_version": "1.5.0",
          "state": {
            "_view_name": "StyleView",
            "_model_name": "ProgressStyleModel",
            "description_width": "",
            "_view_module": "@jupyter-widgets/base",
            "_model_module_version": "1.5.0",
            "_view_count": null,
            "_view_module_version": "1.2.0",
            "bar_color": null,
            "_model_module": "@jupyter-widgets/controls"
          }
        },
        "743818f84f0c44edb2f246e43f381a96": {
          "model_module": "@jupyter-widgets/base",
          "model_name": "LayoutModel",
          "model_module_version": "1.2.0",
          "state": {
            "_view_name": "LayoutView",
            "grid_template_rows": null,
            "right": null,
            "justify_content": null,
            "_view_module": "@jupyter-widgets/base",
            "overflow": null,
            "_model_module_version": "1.2.0",
            "_view_count": null,
            "flex_flow": null,
            "width": null,
            "min_width": null,
            "border": null,
            "align_items": null,
            "bottom": null,
            "_model_module": "@jupyter-widgets/base",
            "top": null,
            "grid_column": null,
            "overflow_y": null,
            "overflow_x": null,
            "grid_auto_flow": null,
            "grid_area": null,
            "grid_template_columns": null,
            "flex": null,
            "_model_name": "LayoutModel",
            "justify_items": null,
            "grid_row": null,
            "max_height": null,
            "align_content": null,
            "visibility": null,
            "align_self": null,
            "height": null,
            "min_height": null,
            "padding": null,
            "grid_auto_rows": null,
            "grid_gap": null,
            "max_width": null,
            "order": null,
            "_view_module_version": "1.2.0",
            "grid_template_areas": null,
            "object_position": null,
            "object_fit": null,
            "grid_auto_columns": null,
            "margin": null,
            "display": null,
            "left": null
          }
        },
        "3eac844f5af7429292ae7ca454d107cc": {
          "model_module": "@jupyter-widgets/controls",
          "model_name": "DescriptionStyleModel",
          "model_module_version": "1.5.0",
          "state": {
            "_view_name": "StyleView",
            "_model_name": "DescriptionStyleModel",
            "description_width": "",
            "_view_module": "@jupyter-widgets/base",
            "_model_module_version": "1.5.0",
            "_view_count": null,
            "_view_module_version": "1.2.0",
            "_model_module": "@jupyter-widgets/controls"
          }
        },
        "b5b2d666fc2a4e00afcc4482b8230b50": {
          "model_module": "@jupyter-widgets/base",
          "model_name": "LayoutModel",
          "model_module_version": "1.2.0",
          "state": {
            "_view_name": "LayoutView",
            "grid_template_rows": null,
            "right": null,
            "justify_content": null,
            "_view_module": "@jupyter-widgets/base",
            "overflow": null,
            "_model_module_version": "1.2.0",
            "_view_count": null,
            "flex_flow": null,
            "width": null,
            "min_width": null,
            "border": null,
            "align_items": null,
            "bottom": null,
            "_model_module": "@jupyter-widgets/base",
            "top": null,
            "grid_column": null,
            "overflow_y": null,
            "overflow_x": null,
            "grid_auto_flow": null,
            "grid_area": null,
            "grid_template_columns": null,
            "flex": null,
            "_model_name": "LayoutModel",
            "justify_items": null,
            "grid_row": null,
            "max_height": null,
            "align_content": null,
            "visibility": null,
            "align_self": null,
            "height": null,
            "min_height": null,
            "padding": null,
            "grid_auto_rows": null,
            "grid_gap": null,
            "max_width": null,
            "order": null,
            "_view_module_version": "1.2.0",
            "grid_template_areas": null,
            "object_position": null,
            "object_fit": null,
            "grid_auto_columns": null,
            "margin": null,
            "display": null,
            "left": null
          }
        },
        "d37173d1c584454b8b193e82dd0a5e13": {
          "model_module": "@jupyter-widgets/controls",
          "model_name": "HBoxModel",
          "model_module_version": "1.5.0",
          "state": {
            "_view_name": "HBoxView",
            "_dom_classes": [],
            "_model_name": "HBoxModel",
            "_view_module": "@jupyter-widgets/controls",
            "_model_module_version": "1.5.0",
            "_view_count": null,
            "_view_module_version": "1.5.0",
            "box_style": "",
            "layout": "IPY_MODEL_b7593fe4735f4095baa8c2eff376a252",
            "_model_module": "@jupyter-widgets/controls",
            "children": [
              "IPY_MODEL_c063eb02ac5b46279ccc6006a60a9d36",
              "IPY_MODEL_57bc66f82bdf4b558cdcd9c774814a8d",
              "IPY_MODEL_344f37fd897a411d9dbf623b934ee66d"
            ]
          }
        },
        "b7593fe4735f4095baa8c2eff376a252": {
          "model_module": "@jupyter-widgets/base",
          "model_name": "LayoutModel",
          "model_module_version": "1.2.0",
          "state": {
            "_view_name": "LayoutView",
            "grid_template_rows": null,
            "right": null,
            "justify_content": null,
            "_view_module": "@jupyter-widgets/base",
            "overflow": null,
            "_model_module_version": "1.2.0",
            "_view_count": null,
            "flex_flow": null,
            "width": null,
            "min_width": null,
            "border": null,
            "align_items": null,
            "bottom": null,
            "_model_module": "@jupyter-widgets/base",
            "top": null,
            "grid_column": null,
            "overflow_y": null,
            "overflow_x": null,
            "grid_auto_flow": null,
            "grid_area": null,
            "grid_template_columns": null,
            "flex": null,
            "_model_name": "LayoutModel",
            "justify_items": null,
            "grid_row": null,
            "max_height": null,
            "align_content": null,
            "visibility": null,
            "align_self": null,
            "height": null,
            "min_height": null,
            "padding": null,
            "grid_auto_rows": null,
            "grid_gap": null,
            "max_width": null,
            "order": null,
            "_view_module_version": "1.2.0",
            "grid_template_areas": null,
            "object_position": null,
            "object_fit": null,
            "grid_auto_columns": null,
            "margin": null,
            "display": null,
            "left": null
          }
        },
        "c063eb02ac5b46279ccc6006a60a9d36": {
          "model_module": "@jupyter-widgets/controls",
          "model_name": "HTMLModel",
          "model_module_version": "1.5.0",
          "state": {
            "_view_name": "HTMLView",
            "style": "IPY_MODEL_f54816f7e9f240e5b8e80e2238cf9cd8",
            "_dom_classes": [],
            "description": "",
            "_model_name": "HTMLModel",
            "placeholder": "​",
            "_view_module": "@jupyter-widgets/controls",
            "_model_module_version": "1.5.0",
            "value": "",
            "_view_count": null,
            "_view_module_version": "1.5.0",
            "description_tooltip": null,
            "_model_module": "@jupyter-widgets/controls",
            "layout": "IPY_MODEL_cd05409ec49d4b3b8e540c8ce9f6b606"
          }
        },
        "57bc66f82bdf4b558cdcd9c774814a8d": {
          "model_module": "@jupyter-widgets/controls",
          "model_name": "FloatProgressModel",
          "model_module_version": "1.5.0",
          "state": {
            "_view_name": "ProgressView",
            "style": "IPY_MODEL_235562b6e8394877862a2ab4b4933e52",
            "_dom_classes": [],
            "description": "",
            "_model_name": "FloatProgressModel",
            "bar_style": "success",
            "max": 1648877,
            "_view_module": "@jupyter-widgets/controls",
            "_model_module_version": "1.5.0",
            "value": 1648877,
            "_view_count": null,
            "_view_module_version": "1.5.0",
            "orientation": "horizontal",
            "min": 0,
            "description_tooltip": null,
            "_model_module": "@jupyter-widgets/controls",
            "layout": "IPY_MODEL_6a19c5aea31f4dc184ebc875146471e4"
          }
        },
        "344f37fd897a411d9dbf623b934ee66d": {
          "model_module": "@jupyter-widgets/controls",
          "model_name": "HTMLModel",
          "model_module_version": "1.5.0",
          "state": {
            "_view_name": "HTMLView",
            "style": "IPY_MODEL_e3e35d91b81c4116b2e5d5f1acfdcda6",
            "_dom_classes": [],
            "description": "",
            "_model_name": "HTMLModel",
            "placeholder": "​",
            "_view_module": "@jupyter-widgets/controls",
            "_model_module_version": "1.5.0",
            "value": " 1649664/? [00:00&lt;00:00, 1271903.98it/s]",
            "_view_count": null,
            "_view_module_version": "1.5.0",
            "description_tooltip": null,
            "_model_module": "@jupyter-widgets/controls",
            "layout": "IPY_MODEL_9791f02d43ff4bb688173f577ba2919a"
          }
        },
        "f54816f7e9f240e5b8e80e2238cf9cd8": {
          "model_module": "@jupyter-widgets/controls",
          "model_name": "DescriptionStyleModel",
          "model_module_version": "1.5.0",
          "state": {
            "_view_name": "StyleView",
            "_model_name": "DescriptionStyleModel",
            "description_width": "",
            "_view_module": "@jupyter-widgets/base",
            "_model_module_version": "1.5.0",
            "_view_count": null,
            "_view_module_version": "1.2.0",
            "_model_module": "@jupyter-widgets/controls"
          }
        },
        "cd05409ec49d4b3b8e540c8ce9f6b606": {
          "model_module": "@jupyter-widgets/base",
          "model_name": "LayoutModel",
          "model_module_version": "1.2.0",
          "state": {
            "_view_name": "LayoutView",
            "grid_template_rows": null,
            "right": null,
            "justify_content": null,
            "_view_module": "@jupyter-widgets/base",
            "overflow": null,
            "_model_module_version": "1.2.0",
            "_view_count": null,
            "flex_flow": null,
            "width": null,
            "min_width": null,
            "border": null,
            "align_items": null,
            "bottom": null,
            "_model_module": "@jupyter-widgets/base",
            "top": null,
            "grid_column": null,
            "overflow_y": null,
            "overflow_x": null,
            "grid_auto_flow": null,
            "grid_area": null,
            "grid_template_columns": null,
            "flex": null,
            "_model_name": "LayoutModel",
            "justify_items": null,
            "grid_row": null,
            "max_height": null,
            "align_content": null,
            "visibility": null,
            "align_self": null,
            "height": null,
            "min_height": null,
            "padding": null,
            "grid_auto_rows": null,
            "grid_gap": null,
            "max_width": null,
            "order": null,
            "_view_module_version": "1.2.0",
            "grid_template_areas": null,
            "object_position": null,
            "object_fit": null,
            "grid_auto_columns": null,
            "margin": null,
            "display": null,
            "left": null
          }
        },
        "235562b6e8394877862a2ab4b4933e52": {
          "model_module": "@jupyter-widgets/controls",
          "model_name": "ProgressStyleModel",
          "model_module_version": "1.5.0",
          "state": {
            "_view_name": "StyleView",
            "_model_name": "ProgressStyleModel",
            "description_width": "",
            "_view_module": "@jupyter-widgets/base",
            "_model_module_version": "1.5.0",
            "_view_count": null,
            "_view_module_version": "1.2.0",
            "bar_color": null,
            "_model_module": "@jupyter-widgets/controls"
          }
        },
        "6a19c5aea31f4dc184ebc875146471e4": {
          "model_module": "@jupyter-widgets/base",
          "model_name": "LayoutModel",
          "model_module_version": "1.2.0",
          "state": {
            "_view_name": "LayoutView",
            "grid_template_rows": null,
            "right": null,
            "justify_content": null,
            "_view_module": "@jupyter-widgets/base",
            "overflow": null,
            "_model_module_version": "1.2.0",
            "_view_count": null,
            "flex_flow": null,
            "width": null,
            "min_width": null,
            "border": null,
            "align_items": null,
            "bottom": null,
            "_model_module": "@jupyter-widgets/base",
            "top": null,
            "grid_column": null,
            "overflow_y": null,
            "overflow_x": null,
            "grid_auto_flow": null,
            "grid_area": null,
            "grid_template_columns": null,
            "flex": null,
            "_model_name": "LayoutModel",
            "justify_items": null,
            "grid_row": null,
            "max_height": null,
            "align_content": null,
            "visibility": null,
            "align_self": null,
            "height": null,
            "min_height": null,
            "padding": null,
            "grid_auto_rows": null,
            "grid_gap": null,
            "max_width": null,
            "order": null,
            "_view_module_version": "1.2.0",
            "grid_template_areas": null,
            "object_position": null,
            "object_fit": null,
            "grid_auto_columns": null,
            "margin": null,
            "display": null,
            "left": null
          }
        },
        "e3e35d91b81c4116b2e5d5f1acfdcda6": {
          "model_module": "@jupyter-widgets/controls",
          "model_name": "DescriptionStyleModel",
          "model_module_version": "1.5.0",
          "state": {
            "_view_name": "StyleView",
            "_model_name": "DescriptionStyleModel",
            "description_width": "",
            "_view_module": "@jupyter-widgets/base",
            "_model_module_version": "1.5.0",
            "_view_count": null,
            "_view_module_version": "1.2.0",
            "_model_module": "@jupyter-widgets/controls"
          }
        },
        "9791f02d43ff4bb688173f577ba2919a": {
          "model_module": "@jupyter-widgets/base",
          "model_name": "LayoutModel",
          "model_module_version": "1.2.0",
          "state": {
            "_view_name": "LayoutView",
            "grid_template_rows": null,
            "right": null,
            "justify_content": null,
            "_view_module": "@jupyter-widgets/base",
            "overflow": null,
            "_model_module_version": "1.2.0",
            "_view_count": null,
            "flex_flow": null,
            "width": null,
            "min_width": null,
            "border": null,
            "align_items": null,
            "bottom": null,
            "_model_module": "@jupyter-widgets/base",
            "top": null,
            "grid_column": null,
            "overflow_y": null,
            "overflow_x": null,
            "grid_auto_flow": null,
            "grid_area": null,
            "grid_template_columns": null,
            "flex": null,
            "_model_name": "LayoutModel",
            "justify_items": null,
            "grid_row": null,
            "max_height": null,
            "align_content": null,
            "visibility": null,
            "align_self": null,
            "height": null,
            "min_height": null,
            "padding": null,
            "grid_auto_rows": null,
            "grid_gap": null,
            "max_width": null,
            "order": null,
            "_view_module_version": "1.2.0",
            "grid_template_areas": null,
            "object_position": null,
            "object_fit": null,
            "grid_auto_columns": null,
            "margin": null,
            "display": null,
            "left": null
          }
        },
        "50602e5987844b32800624166849cba3": {
          "model_module": "@jupyter-widgets/controls",
          "model_name": "HBoxModel",
          "model_module_version": "1.5.0",
          "state": {
            "_view_name": "HBoxView",
            "_dom_classes": [],
            "_model_name": "HBoxModel",
            "_view_module": "@jupyter-widgets/controls",
            "_model_module_version": "1.5.0",
            "_view_count": null,
            "_view_module_version": "1.5.0",
            "box_style": "",
            "layout": "IPY_MODEL_cab5660423b948fdb496c01eeefe548b",
            "_model_module": "@jupyter-widgets/controls",
            "children": [
              "IPY_MODEL_7cb2b65c6f9442eb868cc1d1d18c19e2",
              "IPY_MODEL_06996c4aea0748f5af18103fcd7430ed",
              "IPY_MODEL_cea555c9ca204becb720b8f258dff358"
            ]
          }
        },
        "cab5660423b948fdb496c01eeefe548b": {
          "model_module": "@jupyter-widgets/base",
          "model_name": "LayoutModel",
          "model_module_version": "1.2.0",
          "state": {
            "_view_name": "LayoutView",
            "grid_template_rows": null,
            "right": null,
            "justify_content": null,
            "_view_module": "@jupyter-widgets/base",
            "overflow": null,
            "_model_module_version": "1.2.0",
            "_view_count": null,
            "flex_flow": null,
            "width": null,
            "min_width": null,
            "border": null,
            "align_items": null,
            "bottom": null,
            "_model_module": "@jupyter-widgets/base",
            "top": null,
            "grid_column": null,
            "overflow_y": null,
            "overflow_x": null,
            "grid_auto_flow": null,
            "grid_area": null,
            "grid_template_columns": null,
            "flex": null,
            "_model_name": "LayoutModel",
            "justify_items": null,
            "grid_row": null,
            "max_height": null,
            "align_content": null,
            "visibility": null,
            "align_self": null,
            "height": null,
            "min_height": null,
            "padding": null,
            "grid_auto_rows": null,
            "grid_gap": null,
            "max_width": null,
            "order": null,
            "_view_module_version": "1.2.0",
            "grid_template_areas": null,
            "object_position": null,
            "object_fit": null,
            "grid_auto_columns": null,
            "margin": null,
            "display": null,
            "left": null
          }
        },
        "7cb2b65c6f9442eb868cc1d1d18c19e2": {
          "model_module": "@jupyter-widgets/controls",
          "model_name": "HTMLModel",
          "model_module_version": "1.5.0",
          "state": {
            "_view_name": "HTMLView",
            "style": "IPY_MODEL_76208720e5e14915a1a5495c8f4ab7f5",
            "_dom_classes": [],
            "description": "",
            "_model_name": "HTMLModel",
            "placeholder": "​",
            "_view_module": "@jupyter-widgets/controls",
            "_model_module_version": "1.5.0",
            "value": "",
            "_view_count": null,
            "_view_module_version": "1.5.0",
            "description_tooltip": null,
            "_model_module": "@jupyter-widgets/controls",
            "layout": "IPY_MODEL_355b9f79a175431093b8a39ac5bce9ae"
          }
        },
        "06996c4aea0748f5af18103fcd7430ed": {
          "model_module": "@jupyter-widgets/controls",
          "model_name": "FloatProgressModel",
          "model_module_version": "1.5.0",
          "state": {
            "_view_name": "ProgressView",
            "style": "IPY_MODEL_d6da5a46a50c44729dbc4db4a3b5ce72",
            "_dom_classes": [],
            "description": "",
            "_model_name": "FloatProgressModel",
            "bar_style": "success",
            "max": 4542,
            "_view_module": "@jupyter-widgets/controls",
            "_model_module_version": "1.5.0",
            "value": 4542,
            "_view_count": null,
            "_view_module_version": "1.5.0",
            "orientation": "horizontal",
            "min": 0,
            "description_tooltip": null,
            "_model_module": "@jupyter-widgets/controls",
            "layout": "IPY_MODEL_b9082c4d3c9047c6a0f7f45970fddfce"
          }
        },
        "cea555c9ca204becb720b8f258dff358": {
          "model_module": "@jupyter-widgets/controls",
          "model_name": "HTMLModel",
          "model_module_version": "1.5.0",
          "state": {
            "_view_name": "HTMLView",
            "style": "IPY_MODEL_ea82ea99af2744acb76d071693460050",
            "_dom_classes": [],
            "description": "",
            "_model_name": "HTMLModel",
            "placeholder": "​",
            "_view_module": "@jupyter-widgets/controls",
            "_model_module_version": "1.5.0",
            "value": " 5120/? [00:00&lt;00:00, 57564.65it/s]",
            "_view_count": null,
            "_view_module_version": "1.5.0",
            "description_tooltip": null,
            "_model_module": "@jupyter-widgets/controls",
            "layout": "IPY_MODEL_a758f5f0cae944ea980f74c18954a535"
          }
        },
        "76208720e5e14915a1a5495c8f4ab7f5": {
          "model_module": "@jupyter-widgets/controls",
          "model_name": "DescriptionStyleModel",
          "model_module_version": "1.5.0",
          "state": {
            "_view_name": "StyleView",
            "_model_name": "DescriptionStyleModel",
            "description_width": "",
            "_view_module": "@jupyter-widgets/base",
            "_model_module_version": "1.5.0",
            "_view_count": null,
            "_view_module_version": "1.2.0",
            "_model_module": "@jupyter-widgets/controls"
          }
        },
        "355b9f79a175431093b8a39ac5bce9ae": {
          "model_module": "@jupyter-widgets/base",
          "model_name": "LayoutModel",
          "model_module_version": "1.2.0",
          "state": {
            "_view_name": "LayoutView",
            "grid_template_rows": null,
            "right": null,
            "justify_content": null,
            "_view_module": "@jupyter-widgets/base",
            "overflow": null,
            "_model_module_version": "1.2.0",
            "_view_count": null,
            "flex_flow": null,
            "width": null,
            "min_width": null,
            "border": null,
            "align_items": null,
            "bottom": null,
            "_model_module": "@jupyter-widgets/base",
            "top": null,
            "grid_column": null,
            "overflow_y": null,
            "overflow_x": null,
            "grid_auto_flow": null,
            "grid_area": null,
            "grid_template_columns": null,
            "flex": null,
            "_model_name": "LayoutModel",
            "justify_items": null,
            "grid_row": null,
            "max_height": null,
            "align_content": null,
            "visibility": null,
            "align_self": null,
            "height": null,
            "min_height": null,
            "padding": null,
            "grid_auto_rows": null,
            "grid_gap": null,
            "max_width": null,
            "order": null,
            "_view_module_version": "1.2.0",
            "grid_template_areas": null,
            "object_position": null,
            "object_fit": null,
            "grid_auto_columns": null,
            "margin": null,
            "display": null,
            "left": null
          }
        },
        "d6da5a46a50c44729dbc4db4a3b5ce72": {
          "model_module": "@jupyter-widgets/controls",
          "model_name": "ProgressStyleModel",
          "model_module_version": "1.5.0",
          "state": {
            "_view_name": "StyleView",
            "_model_name": "ProgressStyleModel",
            "description_width": "",
            "_view_module": "@jupyter-widgets/base",
            "_model_module_version": "1.5.0",
            "_view_count": null,
            "_view_module_version": "1.2.0",
            "bar_color": null,
            "_model_module": "@jupyter-widgets/controls"
          }
        },
        "b9082c4d3c9047c6a0f7f45970fddfce": {
          "model_module": "@jupyter-widgets/base",
          "model_name": "LayoutModel",
          "model_module_version": "1.2.0",
          "state": {
            "_view_name": "LayoutView",
            "grid_template_rows": null,
            "right": null,
            "justify_content": null,
            "_view_module": "@jupyter-widgets/base",
            "overflow": null,
            "_model_module_version": "1.2.0",
            "_view_count": null,
            "flex_flow": null,
            "width": null,
            "min_width": null,
            "border": null,
            "align_items": null,
            "bottom": null,
            "_model_module": "@jupyter-widgets/base",
            "top": null,
            "grid_column": null,
            "overflow_y": null,
            "overflow_x": null,
            "grid_auto_flow": null,
            "grid_area": null,
            "grid_template_columns": null,
            "flex": null,
            "_model_name": "LayoutModel",
            "justify_items": null,
            "grid_row": null,
            "max_height": null,
            "align_content": null,
            "visibility": null,
            "align_self": null,
            "height": null,
            "min_height": null,
            "padding": null,
            "grid_auto_rows": null,
            "grid_gap": null,
            "max_width": null,
            "order": null,
            "_view_module_version": "1.2.0",
            "grid_template_areas": null,
            "object_position": null,
            "object_fit": null,
            "grid_auto_columns": null,
            "margin": null,
            "display": null,
            "left": null
          }
        },
        "ea82ea99af2744acb76d071693460050": {
          "model_module": "@jupyter-widgets/controls",
          "model_name": "DescriptionStyleModel",
          "model_module_version": "1.5.0",
          "state": {
            "_view_name": "StyleView",
            "_model_name": "DescriptionStyleModel",
            "description_width": "",
            "_view_module": "@jupyter-widgets/base",
            "_model_module_version": "1.5.0",
            "_view_count": null,
            "_view_module_version": "1.2.0",
            "_model_module": "@jupyter-widgets/controls"
          }
        },
        "a758f5f0cae944ea980f74c18954a535": {
          "model_module": "@jupyter-widgets/base",
          "model_name": "LayoutModel",
          "model_module_version": "1.2.0",
          "state": {
            "_view_name": "LayoutView",
            "grid_template_rows": null,
            "right": null,
            "justify_content": null,
            "_view_module": "@jupyter-widgets/base",
            "overflow": null,
            "_model_module_version": "1.2.0",
            "_view_count": null,
            "flex_flow": null,
            "width": null,
            "min_width": null,
            "border": null,
            "align_items": null,
            "bottom": null,
            "_model_module": "@jupyter-widgets/base",
            "top": null,
            "grid_column": null,
            "overflow_y": null,
            "overflow_x": null,
            "grid_auto_flow": null,
            "grid_area": null,
            "grid_template_columns": null,
            "flex": null,
            "_model_name": "LayoutModel",
            "justify_items": null,
            "grid_row": null,
            "max_height": null,
            "align_content": null,
            "visibility": null,
            "align_self": null,
            "height": null,
            "min_height": null,
            "padding": null,
            "grid_auto_rows": null,
            "grid_gap": null,
            "max_width": null,
            "order": null,
            "_view_module_version": "1.2.0",
            "grid_template_areas": null,
            "object_position": null,
            "object_fit": null,
            "grid_auto_columns": null,
            "margin": null,
            "display": null,
            "left": null
          }
        }
      }
    }
  },
  "cells": [
    {
      "cell_type": "markdown",
      "metadata": {
        "id": "view-in-github",
        "colab_type": "text"
      },
      "source": [
        "<a href=\"https://colab.research.google.com/github/cisco08/2018-ORANGE-FINANCIAL-BIG-DATA-top9/blob/master/contrib/colab/mnist-training.ipynb\" target=\"_parent\"><img src=\"https://colab.research.google.com/assets/colab-badge.svg\" alt=\"Open In Colab\"/></a>"
      ]
    },
    {
      "cell_type": "markdown",
      "metadata": {
        "id": "0WzFpOKDmURO"
      },
      "source": [
        "## PyTorch/TPU MNIST Demo\n",
        "\n",
        "This colab example corresponds to the implementation under [test_train_mp_mnist.py](https://github.com/pytorch/xla/blob/master/test/test_train_mp_mnist.py)."
      ]
    },
    {
      "cell_type": "markdown",
      "metadata": {
        "id": "xOp9jBEumdvC"
      },
      "source": [
        "<h3>  &nbsp;&nbsp;Use Colab Cloud TPU&nbsp;&nbsp; <a href=\"https://cloud.google.com/tpu/\"><img valign=\"middle\" src=\"https://raw.githubusercontent.com/GoogleCloudPlatform/tensorflow-without-a-phd/master/tensorflow-rl-pong/images/tpu-hexagon.png\" width=\"50\"></a></h3>\n",
        "\n",
        "* On the main menu, click Runtime and select **Change runtime type**. Set \"TPU\" as the hardware accelerator.\n",
        "* The cell below makes sure you have access to a TPU on Colab.\n"
      ]
    },
    {
      "cell_type": "code",
      "metadata": {
        "id": "Hx4YVNHametU"
      },
      "source": [
        "import os\n",
        "assert os.environ['COLAB_TPU_ADDR'], 'Make sure to select TPU from Edit > Notebook settings > Hardware accelerator'"
      ],
      "execution_count": 31,
      "outputs": []
    },
    {
      "cell_type": "markdown",
      "metadata": {
        "id": "YofXQrnxmf5r"
      },
      "source": [
        "### [RUNME] Install Colab TPU compatible PyTorch/TPU wheels and dependencies"
      ]
    },
    {
      "cell_type": "code",
      "metadata": {
        "id": "eXAU9SKstxBW",
        "colab": {
          "base_uri": "https://localhost:8080/"
        },
        "outputId": "6cf7487f-2037-455a-f78c-4f71bc1fa737"
      },
      "source": [
        "!pip install cloud-tpu-client==0.10 https://storage.googleapis.com/tpu-pytorch/wheels/torch_xla-1.9-cp37-cp37m-linux_x86_64.whl"
      ],
      "execution_count": 26,
      "outputs": [
        {
          "output_type": "stream",
          "name": "stdout",
          "text": [
            "Collecting torch-xla==1.9\n",
            "  Using cached https://storage.googleapis.com/tpu-pytorch/wheels/torch_xla-1.9-cp37-cp37m-linux_x86_64.whl (149.9 MB)\n",
            "Requirement already satisfied: cloud-tpu-client==0.10 in /usr/local/lib/python3.7/dist-packages (0.10)\n",
            "Requirement already satisfied: google-api-python-client==1.8.0 in /usr/local/lib/python3.7/dist-packages (from cloud-tpu-client==0.10) (1.8.0)\n",
            "Requirement already satisfied: oauth2client in /usr/local/lib/python3.7/dist-packages (from cloud-tpu-client==0.10) (4.1.3)\n",
            "Requirement already satisfied: httplib2<1dev,>=0.9.2 in /usr/local/lib/python3.7/dist-packages (from google-api-python-client==1.8.0->cloud-tpu-client==0.10) (0.17.4)\n",
            "Requirement already satisfied: google-auth-httplib2>=0.0.3 in /usr/local/lib/python3.7/dist-packages (from google-api-python-client==1.8.0->cloud-tpu-client==0.10) (0.0.4)\n",
            "Requirement already satisfied: google-api-core<2dev,>=1.13.0 in /usr/local/lib/python3.7/dist-packages (from google-api-python-client==1.8.0->cloud-tpu-client==0.10) (1.26.3)\n",
            "Requirement already satisfied: google-auth>=1.4.1 in /usr/local/lib/python3.7/dist-packages (from google-api-python-client==1.8.0->cloud-tpu-client==0.10) (1.34.0)\n",
            "Requirement already satisfied: uritemplate<4dev,>=3.0.0 in /usr/local/lib/python3.7/dist-packages (from google-api-python-client==1.8.0->cloud-tpu-client==0.10) (3.0.1)\n",
            "Requirement already satisfied: six<2dev,>=1.6.1 in /usr/local/lib/python3.7/dist-packages (from google-api-python-client==1.8.0->cloud-tpu-client==0.10) (1.15.0)\n",
            "Requirement already satisfied: googleapis-common-protos<2.0dev,>=1.6.0 in /usr/local/lib/python3.7/dist-packages (from google-api-core<2dev,>=1.13.0->google-api-python-client==1.8.0->cloud-tpu-client==0.10) (1.53.0)\n",
            "Requirement already satisfied: protobuf>=3.12.0 in /usr/local/lib/python3.7/dist-packages (from google-api-core<2dev,>=1.13.0->google-api-python-client==1.8.0->cloud-tpu-client==0.10) (3.17.3)\n",
            "Requirement already satisfied: setuptools>=40.3.0 in /usr/local/lib/python3.7/dist-packages (from google-api-core<2dev,>=1.13.0->google-api-python-client==1.8.0->cloud-tpu-client==0.10) (57.4.0)\n",
            "Requirement already satisfied: packaging>=14.3 in /usr/local/lib/python3.7/dist-packages (from google-api-core<2dev,>=1.13.0->google-api-python-client==1.8.0->cloud-tpu-client==0.10) (21.0)\n",
            "Requirement already satisfied: pytz in /usr/local/lib/python3.7/dist-packages (from google-api-core<2dev,>=1.13.0->google-api-python-client==1.8.0->cloud-tpu-client==0.10) (2018.9)\n",
            "Requirement already satisfied: requests<3.0.0dev,>=2.18.0 in /usr/local/lib/python3.7/dist-packages (from google-api-core<2dev,>=1.13.0->google-api-python-client==1.8.0->cloud-tpu-client==0.10) (2.23.0)\n",
            "Requirement already satisfied: cachetools<5.0,>=2.0.0 in /usr/local/lib/python3.7/dist-packages (from google-auth>=1.4.1->google-api-python-client==1.8.0->cloud-tpu-client==0.10) (4.2.2)\n",
            "Requirement already satisfied: pyasn1-modules>=0.2.1 in /usr/local/lib/python3.7/dist-packages (from google-auth>=1.4.1->google-api-python-client==1.8.0->cloud-tpu-client==0.10) (0.2.8)\n",
            "Requirement already satisfied: rsa<5,>=3.1.4 in /usr/local/lib/python3.7/dist-packages (from google-auth>=1.4.1->google-api-python-client==1.8.0->cloud-tpu-client==0.10) (4.7.2)\n",
            "Requirement already satisfied: pyparsing>=2.0.2 in /usr/local/lib/python3.7/dist-packages (from packaging>=14.3->google-api-core<2dev,>=1.13.0->google-api-python-client==1.8.0->cloud-tpu-client==0.10) (2.4.7)\n",
            "Requirement already satisfied: pyasn1<0.5.0,>=0.4.6 in /usr/local/lib/python3.7/dist-packages (from pyasn1-modules>=0.2.1->google-auth>=1.4.1->google-api-python-client==1.8.0->cloud-tpu-client==0.10) (0.4.8)\n",
            "Requirement already satisfied: idna<3,>=2.5 in /usr/local/lib/python3.7/dist-packages (from requests<3.0.0dev,>=2.18.0->google-api-core<2dev,>=1.13.0->google-api-python-client==1.8.0->cloud-tpu-client==0.10) (2.10)\n",
            "Requirement already satisfied: certifi>=2017.4.17 in /usr/local/lib/python3.7/dist-packages (from requests<3.0.0dev,>=2.18.0->google-api-core<2dev,>=1.13.0->google-api-python-client==1.8.0->cloud-tpu-client==0.10) (2021.5.30)\n",
            "Requirement already satisfied: chardet<4,>=3.0.2 in /usr/local/lib/python3.7/dist-packages (from requests<3.0.0dev,>=2.18.0->google-api-core<2dev,>=1.13.0->google-api-python-client==1.8.0->cloud-tpu-client==0.10) (3.0.4)\n",
            "Requirement already satisfied: urllib3!=1.25.0,!=1.25.1,<1.26,>=1.21.1 in /usr/local/lib/python3.7/dist-packages (from requests<3.0.0dev,>=2.18.0->google-api-core<2dev,>=1.13.0->google-api-python-client==1.8.0->cloud-tpu-client==0.10) (1.24.3)\n"
          ]
        }
      ]
    },
    {
      "cell_type": "markdown",
      "metadata": {
        "id": "XsAB5taTtxXd"
      },
      "source": [
        "### Only run the below commented cell if you would like a nightly release"
      ]
    },
    {
      "cell_type": "code",
      "metadata": {
        "id": "sPJVqAKyml5W",
        "cellView": "both"
      },
      "source": [
        "# VERSION = \"20200516\"  #@param [\"1.5\" , \"20200516\", \"nightly\"]\n",
        "# !curl https://raw.githubusercontent.com/pytorch/xla/master/contrib/scripts/env-setup.py -o pytorch-xla-env-setup.py\n",
        "# !python pytorch-xla-env-setup.py --version $VERSION"
      ],
      "execution_count": 30,
      "outputs": []
    },
    {
      "cell_type": "markdown",
      "metadata": {
        "id": "OHpYeQrOLcmZ"
      },
      "source": [
        "### Define Parameters and Helpers, and start Training\n"
      ]
    },
    {
      "cell_type": "code",
      "metadata": {
        "id": "LNLegt4jLkRD"
      },
      "source": [
        "# Result Visualization Helper\n",
        "import math\n",
        "from matplotlib import pyplot as plt\n",
        "\n",
        "M, N = 4, 6\n",
        "RESULT_IMG_PATH = '/tmp/test_result.png'\n",
        "\n",
        "def plot_results(images, labels, preds):\n",
        "  images, labels, preds = images[:M*N], labels[:M*N], preds[:M*N]\n",
        "  inv_norm = transforms.Normalize((-0.1307/0.3081,), (1/0.3081,))\n",
        "\n",
        "  num_images = images.shape[0]\n",
        "  fig, axes = plt.subplots(M, N, figsize=(11, 9))\n",
        "  fig.suptitle('Correct / Predicted Labels (Red text for incorrect ones)')\n",
        "\n",
        "  for i, ax in enumerate(fig.axes):\n",
        "    ax.axis('off')\n",
        "    if i >= num_images:\n",
        "      continue\n",
        "    img, label, prediction = images[i], labels[i], preds[i]\n",
        "    img = inv_norm(img)\n",
        "    img = img.squeeze() # [1,Y,X] -> [Y,X]\n",
        "    label, prediction = label.item(), prediction.item()\n",
        "    if label == prediction:\n",
        "      ax.set_title(u'\\u2713', color='blue', fontsize=22)\n",
        "    else:\n",
        "      ax.set_title(\n",
        "          'X {}/{}'.format(label, prediction), color='red')\n",
        "    ax.imshow(img)\n",
        "  plt.savefig(RESULT_IMG_PATH, transparent=True)"
      ],
      "execution_count": 5,
      "outputs": []
    },
    {
      "cell_type": "code",
      "metadata": {
        "id": "kNh-oEmHmorI"
      },
      "source": [
        "# Define Parameters\n",
        "FLAGS = {}\n",
        "FLAGS['datadir'] = \"/tmp/mnist\"\n",
        "FLAGS['batch_size'] = 128\n",
        "FLAGS['num_workers'] = 4\n",
        "FLAGS['learning_rate'] = 0.01\n",
        "FLAGS['momentum'] = 0.5\n",
        "FLAGS['num_epochs'] = 10\n",
        "FLAGS['num_cores'] = 8\n",
        "FLAGS['log_steps'] = 20\n",
        "FLAGS['metrics_debug'] = False"
      ],
      "execution_count": 33,
      "outputs": []
    },
    {
      "cell_type": "code",
      "metadata": {
        "id": "pTmxZL5ymp8P"
      },
      "source": [
        "import numpy as np\n",
        "import os\n",
        "import time\n",
        "import torch\n",
        "import torch.nn as nn\n",
        "import torch.nn.functional as F\n",
        "import torch.optim as optim\n",
        "import torch_xla\n",
        "import torch_xla.core.xla_model as xm\n",
        "import torch_xla.debug.metrics as met\n",
        "import torch_xla.distributed.parallel_loader as pl\n",
        "import torch_xla.distributed.xla_multiprocessing as xmp\n",
        "import torch_xla.utils.utils as xu\n",
        "from torchvision import datasets, transforms\n",
        "\n",
        "\n",
        "SERIAL_EXEC = xmp.MpSerialExecutor()\n",
        "\n",
        "class MNIST(nn.Module):\n",
        "\n",
        "  def __init__(self):\n",
        "    super(MNIST, self).__init__()\n",
        "    self.conv1 = nn.Conv2d(1, 10, kernel_size=5)\n",
        "    self.bn1 = nn.BatchNorm2d(10)\n",
        "    self.conv2 = nn.Conv2d(10, 20, kernel_size=5)\n",
        "    self.bn2 = nn.BatchNorm2d(20)\n",
        "    self.fc1 = nn.Linear(320, 50)\n",
        "    self.fc2 = nn.Linear(50, 10)\n",
        "\n",
        "  def forward(self, x):\n",
        "    x = F.relu(F.max_pool2d(self.conv1(x), 2))\n",
        "    x = self.bn1(x)\n",
        "    x = F.relu(F.max_pool2d(self.conv2(x), 2))\n",
        "    x = self.bn2(x)\n",
        "    x = torch.flatten(x, 1)\n",
        "    x = F.relu(self.fc1(x))\n",
        "    x = self.fc2(x)\n",
        "    return F.log_softmax(x, dim=1)\n",
        "\n",
        "# Only instantiate model weights once in memory.\n",
        "WRAPPED_MODEL = xmp.MpModelWrapper(MNIST())\n",
        "\n",
        "def train_mnist():\n",
        "  torch.manual_seed(1)\n",
        "  \n",
        "  def get_dataset():\n",
        "    norm = transforms.Normalize((0.1307,), (0.3081,))\n",
        "    train_dataset = datasets.MNIST(\n",
        "        FLAGS['datadir'],\n",
        "        train=True,\n",
        "        download=True,\n",
        "        transform=transforms.Compose(\n",
        "            [transforms.ToTensor(), norm]))\n",
        "    test_dataset = datasets.MNIST(\n",
        "        FLAGS['datadir'],\n",
        "        train=False,\n",
        "        download=True,\n",
        "        transform=transforms.Compose(\n",
        "            [transforms.ToTensor(), norm]))\n",
        "    \n",
        "    return train_dataset, test_dataset\n",
        "  \n",
        "  # Using the serial executor avoids multiple processes to\n",
        "  # download the same data.\n",
        "  train_dataset, test_dataset = SERIAL_EXEC.run(get_dataset)\n",
        "\n",
        "  train_sampler = torch.utils.data.distributed.DistributedSampler(\n",
        "    train_dataset,\n",
        "    num_replicas=xm.xrt_world_size(),\n",
        "    rank=xm.get_ordinal(),\n",
        "    shuffle=True)\n",
        "  train_loader = torch.utils.data.DataLoader(\n",
        "      train_dataset,\n",
        "      batch_size=FLAGS['batch_size'],\n",
        "      sampler=train_sampler,\n",
        "      num_workers=FLAGS['num_workers'],\n",
        "      drop_last=True)\n",
        "  test_loader = torch.utils.data.DataLoader(\n",
        "      test_dataset,\n",
        "      batch_size=FLAGS['batch_size'],\n",
        "      shuffle=False,\n",
        "      num_workers=FLAGS['num_workers'],\n",
        "      drop_last=True)\n",
        "\n",
        "  # Scale learning rate to world size\n",
        "  lr = FLAGS['learning_rate'] * xm.xrt_world_size()\n",
        "\n",
        "  # Get loss function, optimizer, and model\n",
        "  device = xm.xla_device()\n",
        "  model = WRAPPED_MODEL.to(device)\n",
        "  optimizer = optim.SGD(model.parameters(), lr=lr, momentum=FLAGS['momentum'])\n",
        "  loss_fn = nn.NLLLoss()\n",
        "\n",
        "  def train_loop_fn(loader):\n",
        "    tracker = xm.RateTracker()\n",
        "    model.train()\n",
        "    for x, (data, target) in enumerate(loader):\n",
        "      optimizer.zero_grad()\n",
        "      output = model(data)\n",
        "      loss = loss_fn(output, target)\n",
        "      loss.backward()\n",
        "      xm.optimizer_step(optimizer)\n",
        "      tracker.add(FLAGS['batch_size'])\n",
        "      if x % FLAGS['log_steps'] == 0:\n",
        "        print('[xla:{}]({}) Loss={:.5f} Rate={:.2f} GlobalRate={:.2f} Time={}'.format(\n",
        "            xm.get_ordinal(), x, loss.item(), tracker.rate(),\n",
        "            tracker.global_rate(), time.asctime()), flush=True)\n",
        "\n",
        "  def test_loop_fn(loader):\n",
        "    total_samples = 0\n",
        "    correct = 0\n",
        "    model.eval()\n",
        "    data, pred, target = None, None, None\n",
        "    for data, target in loader:\n",
        "      output = model(data)\n",
        "      pred = output.max(1, keepdim=True)[1]\n",
        "      correct += pred.eq(target.view_as(pred)).sum().item()\n",
        "      total_samples += data.size()[0]\n",
        "\n",
        "    accuracy = 100.0 * correct / total_samples\n",
        "    print('[xla:{}] Accuracy={:.2f}%'.format(\n",
        "        xm.get_ordinal(), accuracy), flush=True)\n",
        "    return accuracy, data, pred, target\n",
        "\n",
        "  # Train and eval loops\n",
        "  accuracy = 0.0\n",
        "  data, pred, target = None, None, None\n",
        "  for epoch in range(1, FLAGS['num_epochs'] + 1):\n",
        "    para_loader = pl.ParallelLoader(train_loader, [device])\n",
        "    train_loop_fn(para_loader.per_device_loader(device))\n",
        "    xm.master_print(\"Finished training epoch {}\".format(epoch))\n",
        "\n",
        "    para_loader = pl.ParallelLoader(test_loader, [device])\n",
        "    accuracy, data, pred, target  = test_loop_fn(para_loader.per_device_loader(device))\n",
        "    if FLAGS['metrics_debug']:\n",
        "      xm.master_print(met.metrics_report(), flush=True)\n",
        "\n",
        "  return accuracy, data, pred, target"
      ],
      "execution_count": 34,
      "outputs": []
    },
    {
      "cell_type": "code",
      "metadata": {
        "id": "ZkJful6iCIN-"
      },
      "source": [
        ""
      ],
      "execution_count": null,
      "outputs": []
    },
    {
      "cell_type": "code",
      "metadata": {
        "id": "dAwk5kOW-8lk"
      },
      "source": [
        ""
      ],
      "execution_count": null,
      "outputs": []
    },
    {
      "cell_type": "code",
      "metadata": {
        "id": "Afwo4H7kSd8P",
        "colab": {
          "base_uri": "https://localhost:8080/",
          "height": 1000,
          "referenced_widgets": [
            "a01c8c039f214a96b177f1a22b112cee",
            "1cc03127de824d5fa4bb1bfba2708113",
            "4268b4a073984338b1e237199d905814",
            "546c0530565c45988b975ac369458e45",
            "782ae4648a144bfbb46b8834d916c339",
            "18b07774242349f1a2daad9b2ca6691d",
            "443e300d8cd049c7877ea534456fe6ed",
            "5cbbf7d582eb4ab29f442ca13227ee71",
            "d278e4ebc5b749e2b5efce220fe46112",
            "11cfa2a4f47440799a01155b76dc0f1b",
            "6bd0b92de0f541f69a600ebcdb7c5439",
            "cfa28a9ed2a04a979365401a4e0ae91d",
            "ce4ceb4abdb54b9e86bf98df781d571d",
            "c32eb0969704463cb46a5c0e1ddae147",
            "72c5530053e0494c9bd8a1ceaaf3984e",
            "7b97313bea824d4987134ce6c944503a",
            "e393e798cc4345458ba57acb277ca83b",
            "148c9f470b1443f688b8f83b8b35f4d9",
            "7cbcf2ee1e3c419fbc535c4ecb84a858",
            "743818f84f0c44edb2f246e43f381a96",
            "3eac844f5af7429292ae7ca454d107cc",
            "b5b2d666fc2a4e00afcc4482b8230b50",
            "d37173d1c584454b8b193e82dd0a5e13",
            "b7593fe4735f4095baa8c2eff376a252",
            "c063eb02ac5b46279ccc6006a60a9d36",
            "57bc66f82bdf4b558cdcd9c774814a8d",
            "344f37fd897a411d9dbf623b934ee66d",
            "f54816f7e9f240e5b8e80e2238cf9cd8",
            "cd05409ec49d4b3b8e540c8ce9f6b606",
            "235562b6e8394877862a2ab4b4933e52",
            "6a19c5aea31f4dc184ebc875146471e4",
            "e3e35d91b81c4116b2e5d5f1acfdcda6",
            "9791f02d43ff4bb688173f577ba2919a",
            "50602e5987844b32800624166849cba3",
            "cab5660423b948fdb496c01eeefe548b",
            "7cb2b65c6f9442eb868cc1d1d18c19e2",
            "06996c4aea0748f5af18103fcd7430ed",
            "cea555c9ca204becb720b8f258dff358",
            "76208720e5e14915a1a5495c8f4ab7f5",
            "355b9f79a175431093b8a39ac5bce9ae",
            "d6da5a46a50c44729dbc4db4a3b5ce72",
            "b9082c4d3c9047c6a0f7f45970fddfce",
            "ea82ea99af2744acb76d071693460050",
            "a758f5f0cae944ea980f74c18954a535"
          ]
        },
        "outputId": "994af793-52a3-4220-cf27-74dc7942a7f8"
      },
      "source": [
        "# Start training processes\n",
        "def _mp_fn(rank, flags):\n",
        "  global FLAGS\n",
        "  FLAGS = flags\n",
        "  torch.set_default_tensor_type('torch.FloatTensor')\n",
        "  accuracy, data, pred, target = train_mnist()\n",
        "  if rank == 0:\n",
        "    # Retrieve tensors that are on TPU core 0 and plot.\n",
        "    plot_results(data.cpu(), pred.cpu(), target.cpu())\n",
        "\n",
        "xmp.spawn(_mp_fn, args=(FLAGS,), nprocs=FLAGS['num_cores'],\n",
        "          start_method='fork')"
      ],
      "execution_count": 8,
      "outputs": [
        {
          "output_type": "stream",
          "name": "stdout",
          "text": [
            "Downloading http://yann.lecun.com/exdb/mnist/train-images-idx3-ubyte.gz\n",
            "Downloading http://yann.lecun.com/exdb/mnist/train-images-idx3-ubyte.gz to /tmp/mnist/MNIST/raw/train-images-idx3-ubyte.gz\n"
          ]
        },
        {
          "output_type": "display_data",
          "data": {
            "application/vnd.jupyter.widget-view+json": {
              "model_id": "a01c8c039f214a96b177f1a22b112cee",
              "version_minor": 0,
              "version_major": 2
            },
            "text/plain": [
              "  0%|          | 0/9912422 [00:00<?, ?it/s]"
            ]
          },
          "metadata": {}
        },
        {
          "output_type": "stream",
          "name": "stdout",
          "text": [
            "Extracting /tmp/mnist/MNIST/raw/train-images-idx3-ubyte.gz to /tmp/mnist/MNIST/raw\n",
            "\n",
            "Downloading http://yann.lecun.com/exdb/mnist/train-labels-idx1-ubyte.gz\n",
            "Downloading http://yann.lecun.com/exdb/mnist/train-labels-idx1-ubyte.gz to /tmp/mnist/MNIST/raw/train-labels-idx1-ubyte.gz\n"
          ]
        },
        {
          "output_type": "display_data",
          "data": {
            "application/vnd.jupyter.widget-view+json": {
              "model_id": "cfa28a9ed2a04a979365401a4e0ae91d",
              "version_minor": 0,
              "version_major": 2
            },
            "text/plain": [
              "  0%|          | 0/28881 [00:00<?, ?it/s]"
            ]
          },
          "metadata": {}
        },
        {
          "output_type": "stream",
          "name": "stdout",
          "text": [
            "Extracting /tmp/mnist/MNIST/raw/train-labels-idx1-ubyte.gz to /tmp/mnist/MNIST/raw\n",
            "\n",
            "Downloading http://yann.lecun.com/exdb/mnist/t10k-images-idx3-ubyte.gz\n",
            "Downloading http://yann.lecun.com/exdb/mnist/t10k-images-idx3-ubyte.gz to /tmp/mnist/MNIST/raw/t10k-images-idx3-ubyte.gz\n"
          ]
        },
        {
          "output_type": "display_data",
          "data": {
            "application/vnd.jupyter.widget-view+json": {
              "model_id": "d37173d1c584454b8b193e82dd0a5e13",
              "version_minor": 0,
              "version_major": 2
            },
            "text/plain": [
              "  0%|          | 0/1648877 [00:00<?, ?it/s]"
            ]
          },
          "metadata": {}
        },
        {
          "output_type": "stream",
          "name": "stdout",
          "text": [
            "Extracting /tmp/mnist/MNIST/raw/t10k-images-idx3-ubyte.gz to /tmp/mnist/MNIST/raw\n",
            "\n",
            "Downloading http://yann.lecun.com/exdb/mnist/t10k-labels-idx1-ubyte.gz\n",
            "Downloading http://yann.lecun.com/exdb/mnist/t10k-labels-idx1-ubyte.gz to /tmp/mnist/MNIST/raw/t10k-labels-idx1-ubyte.gz\n"
          ]
        },
        {
          "output_type": "display_data",
          "data": {
            "application/vnd.jupyter.widget-view+json": {
              "model_id": "50602e5987844b32800624166849cba3",
              "version_minor": 0,
              "version_major": 2
            },
            "text/plain": [
              "  0%|          | 0/4542 [00:00<?, ?it/s]"
            ]
          },
          "metadata": {}
        },
        {
          "output_type": "stream",
          "name": "stdout",
          "text": [
            "Extracting /tmp/mnist/MNIST/raw/t10k-labels-idx1-ubyte.gz to /tmp/mnist/MNIST/raw\n",
            "\n"
          ]
        },
        {
          "output_type": "stream",
          "name": "stderr",
          "text": [
            "/usr/local/lib/python3.7/dist-packages/torchvision/datasets/mnist.py:498: UserWarning: The given NumPy array is not writeable, and PyTorch does not support non-writeable tensors. This means you can write to the underlying (supposedly non-writeable) NumPy array using the tensor. You may want to copy the array to protect its data or make it writeable before converting it to a tensor. This type of warning will be suppressed for the rest of this program. (Triggered internally at  /pytorch/torch/csrc/utils/tensor_numpy.cpp:180.)\n",
            "  return torch.from_numpy(parsed.astype(m[2], copy=False)).view(*s)\n",
            "/usr/local/lib/python3.7/dist-packages/torch/utils/data/dataloader.py:481: UserWarning: This DataLoader will create 4 worker processes in total. Our suggested max number of worker in current system is 2, which is smaller than what this DataLoader is going to create. Please be aware that excessive worker creation might get DataLoader running slow or even freeze, lower the worker number to avoid potential slowness/freeze if necessary.\n",
            "  cpuset_checked))\n"
          ]
        },
        {
          "output_type": "stream",
          "name": "stdout",
          "text": [
            "[xla:0](0) Loss=2.35091 Rate=82.70 GlobalRate=82.70 Time=Wed Sep  8 02:40:27 2021\n"
          ]
        },
        {
          "output_type": "stream",
          "name": "stderr",
          "text": [
            "/usr/local/lib/python3.7/dist-packages/torchvision/datasets/mnist.py:498: UserWarning: The given NumPy array is not writeable, and PyTorch does not support non-writeable tensors. This means you can write to the underlying (supposedly non-writeable) NumPy array using the tensor. You may want to copy the array to protect its data or make it writeable before converting it to a tensor. This type of warning will be suppressed for the rest of this program. (Triggered internally at  /pytorch/torch/csrc/utils/tensor_numpy.cpp:180.)\n",
            "  return torch.from_numpy(parsed.astype(m[2], copy=False)).view(*s)\n",
            "/usr/local/lib/python3.7/dist-packages/torch/utils/data/dataloader.py:481: UserWarning: This DataLoader will create 4 worker processes in total. Our suggested max number of worker in current system is 2, which is smaller than what this DataLoader is going to create. Please be aware that excessive worker creation might get DataLoader running slow or even freeze, lower the worker number to avoid potential slowness/freeze if necessary.\n",
            "  cpuset_checked))\n"
          ]
        },
        {
          "output_type": "stream",
          "name": "stdout",
          "text": [
            "[xla:1](0) Loss=2.35921 Rate=316.02 GlobalRate=315.99 Time=Wed Sep  8 02:40:33 2021\n"
          ]
        },
        {
          "output_type": "stream",
          "name": "stderr",
          "text": [
            "/usr/local/lib/python3.7/dist-packages/torchvision/datasets/mnist.py:498: UserWarning: The given NumPy array is not writeable, and PyTorch does not support non-writeable tensors. This means you can write to the underlying (supposedly non-writeable) NumPy array using the tensor. You may want to copy the array to protect its data or make it writeable before converting it to a tensor. This type of warning will be suppressed for the rest of this program. (Triggered internally at  /pytorch/torch/csrc/utils/tensor_numpy.cpp:180.)\n",
            "  return torch.from_numpy(parsed.astype(m[2], copy=False)).view(*s)\n",
            "/usr/local/lib/python3.7/dist-packages/torch/utils/data/dataloader.py:481: UserWarning: This DataLoader will create 4 worker processes in total. Our suggested max number of worker in current system is 2, which is smaller than what this DataLoader is going to create. Please be aware that excessive worker creation might get DataLoader running slow or even freeze, lower the worker number to avoid potential slowness/freeze if necessary.\n",
            "  cpuset_checked))\n"
          ]
        },
        {
          "output_type": "stream",
          "name": "stdout",
          "text": [
            "[xla:3](0) Loss=2.32649 Rate=308.56 GlobalRate=308.55 Time=Wed Sep  8 02:40:34 2021\n"
          ]
        },
        {
          "output_type": "stream",
          "name": "stderr",
          "text": [
            "/usr/local/lib/python3.7/dist-packages/torchvision/datasets/mnist.py:498: UserWarning: The given NumPy array is not writeable, and PyTorch does not support non-writeable tensors. This means you can write to the underlying (supposedly non-writeable) NumPy array using the tensor. You may want to copy the array to protect its data or make it writeable before converting it to a tensor. This type of warning will be suppressed for the rest of this program. (Triggered internally at  /pytorch/torch/csrc/utils/tensor_numpy.cpp:180.)\n",
            "  return torch.from_numpy(parsed.astype(m[2], copy=False)).view(*s)\n",
            "/usr/local/lib/python3.7/dist-packages/torch/utils/data/dataloader.py:481: UserWarning: This DataLoader will create 4 worker processes in total. Our suggested max number of worker in current system is 2, which is smaller than what this DataLoader is going to create. Please be aware that excessive worker creation might get DataLoader running slow or even freeze, lower the worker number to avoid potential slowness/freeze if necessary.\n",
            "  cpuset_checked))\n",
            "/usr/local/lib/python3.7/dist-packages/torchvision/datasets/mnist.py:498: UserWarning: The given NumPy array is not writeable, and PyTorch does not support non-writeable tensors. This means you can write to the underlying (supposedly non-writeable) NumPy array using the tensor. You may want to copy the array to protect its data or make it writeable before converting it to a tensor. This type of warning will be suppressed for the rest of this program. (Triggered internally at  /pytorch/torch/csrc/utils/tensor_numpy.cpp:180.)\n",
            "  return torch.from_numpy(parsed.astype(m[2], copy=False)).view(*s)\n",
            "/usr/local/lib/python3.7/dist-packages/torch/utils/data/dataloader.py:481: UserWarning: This DataLoader will create 4 worker processes in total. Our suggested max number of worker in current system is 2, which is smaller than what this DataLoader is going to create. Please be aware that excessive worker creation might get DataLoader running slow or even freeze, lower the worker number to avoid potential slowness/freeze if necessary.\n",
            "  cpuset_checked))\n"
          ]
        },
        {
          "output_type": "stream",
          "name": "stdout",
          "text": [
            "[xla:4](0) Loss=2.30819 Rate=271.84 GlobalRate=271.83 Time=Wed Sep  8 02:40:36 2021\n"
          ]
        },
        {
          "output_type": "stream",
          "name": "stderr",
          "text": [
            "/usr/local/lib/python3.7/dist-packages/torchvision/datasets/mnist.py:498: UserWarning: The given NumPy array is not writeable, and PyTorch does not support non-writeable tensors. This means you can write to the underlying (supposedly non-writeable) NumPy array using the tensor. You may want to copy the array to protect its data or make it writeable before converting it to a tensor. This type of warning will be suppressed for the rest of this program. (Triggered internally at  /pytorch/torch/csrc/utils/tensor_numpy.cpp:180.)\n",
            "  return torch.from_numpy(parsed.astype(m[2], copy=False)).view(*s)\n",
            "/usr/local/lib/python3.7/dist-packages/torch/utils/data/dataloader.py:481: UserWarning: This DataLoader will create 4 worker processes in total. Our suggested max number of worker in current system is 2, which is smaller than what this DataLoader is going to create. Please be aware that excessive worker creation might get DataLoader running slow or even freeze, lower the worker number to avoid potential slowness/freeze if necessary.\n",
            "  cpuset_checked))\n"
          ]
        },
        {
          "output_type": "stream",
          "name": "stdout",
          "text": [
            "[xla:2](0) Loss=2.35578 Rate=173.58 GlobalRate=173.57 Time=Wed Sep  8 02:40:36 2021\n",
            "[xla:5](0) Loss=2.36828 Rate=288.46 GlobalRate=288.44 Time=Wed Sep  8 02:40:37 2021\n"
          ]
        },
        {
          "output_type": "stream",
          "name": "stderr",
          "text": [
            "/usr/local/lib/python3.7/dist-packages/torchvision/datasets/mnist.py:498: UserWarning: The given NumPy array is not writeable, and PyTorch does not support non-writeable tensors. This means you can write to the underlying (supposedly non-writeable) NumPy array using the tensor. You may want to copy the array to protect its data or make it writeable before converting it to a tensor. This type of warning will be suppressed for the rest of this program. (Triggered internally at  /pytorch/torch/csrc/utils/tensor_numpy.cpp:180.)\n",
            "  return torch.from_numpy(parsed.astype(m[2], copy=False)).view(*s)\n",
            "/usr/local/lib/python3.7/dist-packages/torch/utils/data/dataloader.py:481: UserWarning: This DataLoader will create 4 worker processes in total. Our suggested max number of worker in current system is 2, which is smaller than what this DataLoader is going to create. Please be aware that excessive worker creation might get DataLoader running slow or even freeze, lower the worker number to avoid potential slowness/freeze if necessary.\n",
            "  cpuset_checked))\n"
          ]
        },
        {
          "output_type": "stream",
          "name": "stdout",
          "text": [
            "[xla:6](0) Loss=2.35085 Rate=312.65 GlobalRate=312.62 Time=Wed Sep  8 02:40:41 2021\n"
          ]
        },
        {
          "output_type": "stream",
          "name": "stderr",
          "text": [
            "/usr/local/lib/python3.7/dist-packages/torchvision/datasets/mnist.py:498: UserWarning: The given NumPy array is not writeable, and PyTorch does not support non-writeable tensors. This means you can write to the underlying (supposedly non-writeable) NumPy array using the tensor. You may want to copy the array to protect its data or make it writeable before converting it to a tensor. This type of warning will be suppressed for the rest of this program. (Triggered internally at  /pytorch/torch/csrc/utils/tensor_numpy.cpp:180.)\n",
            "  return torch.from_numpy(parsed.astype(m[2], copy=False)).view(*s)\n",
            "/usr/local/lib/python3.7/dist-packages/torch/utils/data/dataloader.py:481: UserWarning: This DataLoader will create 4 worker processes in total. Our suggested max number of worker in current system is 2, which is smaller than what this DataLoader is going to create. Please be aware that excessive worker creation might get DataLoader running slow or even freeze, lower the worker number to avoid potential slowness/freeze if necessary.\n",
            "  cpuset_checked))\n"
          ]
        },
        {
          "output_type": "stream",
          "name": "stdout",
          "text": [
            "[xla:7](0) Loss=2.32070 Rate=264.13 GlobalRate=264.11 Time=Wed Sep  8 02:40:43 2021\n",
            "[xla:6](20) Loss=0.31652 Rate=395.13 GlobalRate=440.88 Time=Wed Sep  8 02:40:46 2021\n",
            "[xla:1](20) Loss=0.33523 Rate=237.19 GlobalRate=188.37 Time=Wed Sep  8 02:40:46 2021\n",
            "[xla:7](20) Loss=0.39114 Rate=542.37 GlobalRate=671.71 Time=Wed Sep  8 02:40:46 2021\n",
            "[xla:2](20) Loss=0.43074 Rate=222.36 GlobalRate=249.32 Time=Wed Sep  8 02:40:46 2021\n",
            "[xla:3](20) Loss=0.41579 Rate=244.87 GlobalRate=205.78 Time=Wed Sep  8 02:40:46 2021\n",
            "[xla:4](20) Loss=0.42410 Rate=251.40 GlobalRate=239.20 Time=Wed Sep  8 02:40:46 2021\n",
            "[xla:0](20) Loss=0.43566 Rate=110.59 GlobalRate=125.81 Time=Wed Sep  8 02:40:46 2021\n",
            "[xla:5](20) Loss=0.45230 Rate=278.83 GlobalRate=273.14 Time=Wed Sep  8 02:40:47 2021\n",
            "[xla:0](40) Loss=0.21824 Rate=660.64 GlobalRate=219.98 Time=Wed Sep  8 02:40:49 2021\n",
            "[xla:6](40) Loss=0.20704 Rate=717.81 GlobalRate=593.60 Time=Wed Sep  8 02:40:49 2021\n",
            "[xla:5](40) Loss=0.16844 Rate=679.62 GlobalRate=418.33 Time=Wed Sep  8 02:40:49 2021\n",
            "[xla:7](40) Loss=0.16670 Rate=761.94 GlobalRate=769.49 Time=Wed Sep  8 02:40:49 2021\n",
            "[xla:2](40) Loss=0.14103 Rate=617.62 GlobalRate=383.43 Time=Wed Sep  8 02:40:49 2021\n",
            "[xla:1](40) Loss=0.14492 Rate=614.30 GlobalRate=304.64 Time=Wed Sep  8 02:40:49 2021\n",
            "[xla:3](40) Loss=0.22818 Rate=608.98 GlobalRate=326.60 Time=Wed Sep  8 02:40:49 2021\n",
            "[xla:4](40) Loss=0.13011 Rate=610.86 GlobalRate=368.34 Time=Wed Sep  8 02:40:49 2021\n",
            "Finished training epoch 1\n",
            "[xla:0] Accuracy=96.54%\n",
            "[xla:2] Accuracy=96.56%\n",
            "[xla:6] Accuracy=96.55%\n",
            "[xla:5] Accuracy=96.53%\n",
            "[xla:3] Accuracy=96.57%\n",
            "[xla:4] Accuracy=96.55%\n",
            "[xla:7] Accuracy=96.55%\n",
            "[xla:1] Accuracy=96.55%\n",
            "[xla:0](0) Loss=0.17074 Rate=90.15 GlobalRate=90.15 Time=Wed Sep  8 02:41:10 2021\n",
            "[xla:2](0) Loss=0.14554 Rate=91.53 GlobalRate=91.53 Time=Wed Sep  8 02:41:10 2021\n",
            "[xla:6](0) Loss=0.16205 Rate=80.86 GlobalRate=80.86 Time=Wed Sep  8 02:41:10 2021\n",
            "[xla:5](0) Loss=0.11500 Rate=81.96 GlobalRate=81.95 Time=Wed Sep  8 02:41:10 2021\n",
            "[xla:4](0) Loss=0.10880 Rate=75.34 GlobalRate=75.34 Time=Wed Sep  8 02:41:11 2021\n",
            "[xla:3](0) Loss=0.13777 Rate=77.03 GlobalRate=77.02 Time=Wed Sep  8 02:41:11 2021\n",
            "[xla:7](0) Loss=0.20625 Rate=72.40 GlobalRate=72.40 Time=Wed Sep  8 02:41:11 2021\n",
            "[xla:1](0) Loss=0.16297 Rate=71.80 GlobalRate=71.80 Time=Wed Sep  8 02:41:11 2021\n",
            "[xla:0](20) Loss=0.12113 Rate=387.89 GlobalRate=464.60 Time=Wed Sep  8 02:41:15 2021\n",
            "[xla:2](20) Loss=0.15804 Rate=388.45 GlobalRate=466.33 Time=Wed Sep  8 02:41:15 2021\n",
            "[xla:6](20) Loss=0.05154 Rate=388.81 GlobalRate=456.22 Time=Wed Sep  8 02:41:15 2021\n",
            "[xla:5](20) Loss=0.16194 Rate=383.27 GlobalRate=452.19 Time=Wed Sep  8 02:41:15 2021\n",
            "[xla:4](20) Loss=0.11088 Rate=387.29 GlobalRate=448.03 Time=Wed Sep  8 02:41:15 2021\n",
            "[xla:7](20) Loss=0.16059 Rate=386.80 GlobalRate=443.54 Time=Wed Sep  8 02:41:15 2021\n",
            "[xla:3](20) Loss=0.17049 Rate=375.15 GlobalRate=439.04 Time=Wed Sep  8 02:41:15 2021\n",
            "[xla:1](20) Loss=0.05057 Rate=383.07 GlobalRate=439.39 Time=Wed Sep  8 02:41:15 2021\n",
            "[xla:2](40) Loss=0.06439 Rate=515.11 GlobalRate=523.02 Time=Wed Sep  8 02:41:19 2021\n",
            "[xla:6](40) Loss=0.07760 Rate=512.24 GlobalRate=514.62 Time=Wed Sep  8 02:41:19 2021\n",
            "[xla:0](40) Loss=0.12819 Rate=502.42 GlobalRate=514.07 Time=Wed Sep  8 02:41:19 2021\n",
            "[xla:5](40) Loss=0.07592 Rate=502.32 GlobalRate=507.28 Time=Wed Sep  8 02:41:19 2021\n",
            "[xla:4](40) Loss=0.04722 Rate=501.82 GlobalRate=503.29 Time=Wed Sep  8 02:41:19 2021\n",
            "[xla:7](40) Loss=0.07332 Rate=506.94 GlobalRate=503.59 Time=Wed Sep  8 02:41:19 2021\n",
            "[xla:3](40) Loss=0.12738 Rate=495.45 GlobalRate=496.52 Time=Wed Sep  8 02:41:19 2021\n",
            "[xla:1](40) Loss=0.07503 Rate=497.94 GlobalRate=496.34 Time=Wed Sep  8 02:41:20 2021\n",
            "Finished training epoch 2\n",
            "[xla:3] Accuracy=97.73%\n",
            "[xla:7] Accuracy=97.68%\n",
            "[xla:5] Accuracy=97.68%\n",
            "[xla:1] Accuracy=97.71%\n",
            "[xla:6] Accuracy=97.70%\n",
            "[xla:0] Accuracy=97.72%\n",
            "[xla:2] Accuracy=97.71%\n",
            "[xla:4] Accuracy=97.73%\n",
            "[xla:5](0) Loss=0.05995 Rate=103.02 GlobalRate=103.02 Time=Wed Sep  8 02:41:40 2021\n",
            "[xla:3](0) Loss=0.07931 Rate=84.26 GlobalRate=84.26 Time=Wed Sep  8 02:41:40 2021\n",
            "[xla:7](0) Loss=0.14213 Rate=85.62 GlobalRate=85.62 Time=Wed Sep  8 02:41:40 2021\n",
            "[xla:1](0) Loss=0.09390 Rate=81.54 GlobalRate=81.54 Time=Wed Sep  8 02:41:41 2021\n",
            "[xla:6](0) Loss=0.10131 Rate=76.92 GlobalRate=76.92 Time=Wed Sep  8 02:41:41 2021\n",
            "[xla:2](0) Loss=0.09509 Rate=69.18 GlobalRate=69.18 Time=Wed Sep  8 02:41:41 2021\n",
            "[xla:0](0) Loss=0.10765 Rate=67.64 GlobalRate=67.64 Time=Wed Sep  8 02:41:41 2021\n",
            "[xla:4](0) Loss=0.06262 Rate=65.74 GlobalRate=65.74 Time=Wed Sep  8 02:41:41 2021\n",
            "[xla:5](20) Loss=0.11647 Rate=388.45 GlobalRate=474.42 Time=Wed Sep  8 02:41:45 2021\n",
            "[xla:7](20) Loss=0.12611 Rate=385.17 GlobalRate=457.77 Time=Wed Sep  8 02:41:45 2021\n",
            "[xla:3](20) Loss=0.13651 Rate=377.06 GlobalRate=448.55 Time=Wed Sep  8 02:41:45 2021\n",
            "[xla:6](20) Loss=0.02364 Rate=384.78 GlobalRate=447.79 Time=Wed Sep  8 02:41:45 2021\n",
            "[xla:1](20) Loss=0.03286 Rate=376.69 GlobalRate=445.49 Time=Wed Sep  8 02:41:45 2021\n",
            "[xla:4](20) Loss=0.07558 Rate=393.31 GlobalRate=438.34 Time=Wed Sep  8 02:41:45 2021\n",
            "[xla:2](20) Loss=0.12000 Rate=378.26 GlobalRate=431.36 Time=Wed Sep  8 02:41:45 2021\n",
            "[xla:0](20) Loss=0.07911 Rate=383.97 GlobalRate=433.84 Time=Wed Sep  8 02:41:45 2021\n",
            "[xla:5](40) Loss=0.05101 Rate=507.67 GlobalRate=523.44 Time=Wed Sep  8 02:41:49 2021\n",
            "[xla:7](40) Loss=0.04472 Rate=511.27 GlobalRate=515.92 Time=Wed Sep  8 02:41:49 2021\n",
            "[xla:6](40) Loss=0.04721 Rate=522.02 GlobalRate=515.74 Time=Wed Sep  8 02:41:49 2021\n",
            "[xla:1](40) Loss=0.05811 Rate=518.54 GlobalRate=514.04 Time=Wed Sep  8 02:41:49 2021\n",
            "[xla:3](40) Loss=0.09642 Rate=493.27 GlobalRate=500.86 Time=Wed Sep  8 02:41:49 2021\n",
            "[xla:2](40) Loss=0.05122 Rate=513.86 GlobalRate=501.34 Time=Wed Sep  8 02:41:49 2021\n",
            "[xla:0](40) Loss=0.10807 Rate=511.52 GlobalRate=500.42 Time=Wed Sep  8 02:41:49 2021\n",
            "[xla:4](40) Loss=0.02951 Rate=511.21 GlobalRate=501.12 Time=Wed Sep  8 02:41:50 2021\n",
            "Finished training epoch 3\n",
            "[xla:7] Accuracy=98.17%\n",
            "[xla:5] Accuracy=98.13%\n",
            "[xla:1] Accuracy=98.17%\n",
            "[xla:2] Accuracy=98.20%\n",
            "[xla:6] Accuracy=98.17%\n",
            "[xla:0] Accuracy=98.16%\n",
            "[xla:3] Accuracy=98.25%\n",
            "[xla:4] Accuracy=98.21%\n",
            "[xla:7](0) Loss=0.11164 Rate=97.36 GlobalRate=97.36 Time=Wed Sep  8 02:42:10 2021\n",
            "[xla:1](0) Loss=0.06644 Rate=88.40 GlobalRate=88.40 Time=Wed Sep  8 02:42:10 2021\n",
            "[xla:5](0) Loss=0.04518 Rate=76.31 GlobalRate=76.31 Time=Wed Sep  8 02:42:10 2021\n",
            "[xla:6](0) Loss=0.07499 Rate=82.20 GlobalRate=82.20 Time=Wed Sep  8 02:42:11 2021\n",
            "[xla:2](0) Loss=0.08121 Rate=72.34 GlobalRate=72.33 Time=Wed Sep  8 02:42:11 2021\n",
            "[xla:3](0) Loss=0.05579 Rate=70.12 GlobalRate=70.12 Time=Wed Sep  8 02:42:11 2021\n",
            "[xla:4](0) Loss=0.05032 Rate=69.04 GlobalRate=69.04 Time=Wed Sep  8 02:42:11 2021\n",
            "[xla:0](0) Loss=0.08231 Rate=64.01 GlobalRate=64.01 Time=Wed Sep  8 02:42:11 2021\n",
            "[xla:7](20) Loss=0.10405 Rate=360.99 GlobalRate=441.80 Time=Wed Sep  8 02:42:15 2021\n",
            "[xla:1](20) Loss=0.02698 Rate=388.06 GlobalRate=463.21 Time=Wed Sep  8 02:42:15 2021\n",
            "[xla:5](20) Loss=0.09945 Rate=384.03 GlobalRate=446.34 Time=Wed Sep  8 02:42:15 2021\n",
            "[xla:6](20) Loss=0.01432 Rate=390.23 GlobalRate=459.05 Time=Wed Sep  8 02:42:15 2021\n",
            "[xla:3](20) Loss=0.12157 Rate=397.75 GlobalRate=449.47 Time=Wed Sep  8 02:42:15 2021\n",
            "[xla:2](20) Loss=0.10329 Rate=379.79 GlobalRate=437.25 Time=Wed Sep  8 02:42:15 2021\n",
            "[xla:0](20) Loss=0.06418 Rate=390.40 GlobalRate=432.82 Time=Wed Sep  8 02:42:15 2021\n",
            "[xla:4](20) Loss=0.05938 Rate=384.97 GlobalRate=436.91 Time=Wed Sep  8 02:42:15 2021\n",
            "[xla:7](40) Loss=0.03584 Rate=502.65 GlobalRate=505.99 Time=Wed Sep  8 02:42:19 2021\n",
            "[xla:1](40) Loss=0.04734 Rate=517.59 GlobalRate=522.62 Time=Wed Sep  8 02:42:19 2021\n",
            "[xla:5](40) Loss=0.03799 Rate=517.16 GlobalRate=512.13 Time=Wed Sep  8 02:42:19 2021\n",
            "[xla:6](40) Loss=0.03723 Rate=512.10 GlobalRate=516.03 Time=Wed Sep  8 02:42:19 2021\n",
            "[xla:2](40) Loss=0.04547 Rate=517.59 GlobalRate=507.16 Time=Wed Sep  8 02:42:19 2021\n",
            "[xla:3](40) Loss=0.07809 Rate=513.68 GlobalRate=508.92 Time=Wed Sep  8 02:42:19 2021\n",
            "[xla:0](40) Loss=0.10216 Rate=524.66 GlobalRate=505.65 Time=Wed Sep  8 02:42:19 2021\n",
            "[xla:4](40) Loss=0.02060 Rate=514.60 GlobalRate=504.04 Time=Wed Sep  8 02:42:19 2021\n",
            "Finished training epoch 4\n",
            "[xla:7] Accuracy=98.35%\n",
            "[xla:1] Accuracy=98.39%\n",
            "[xla:5] Accuracy=98.37%\n",
            "[xla:4] Accuracy=98.40%\n",
            "[xla:3] Accuracy=98.39%\n",
            "[xla:2] Accuracy=98.39%\n",
            "[xla:0] Accuracy=98.37%\n",
            "[xla:6] Accuracy=98.37%\n",
            "[xla:7](0) Loss=0.09386 Rate=91.18 GlobalRate=91.18 Time=Wed Sep  8 02:42:40 2021\n",
            "[xla:1](0) Loss=0.04894 Rate=89.75 GlobalRate=89.75 Time=Wed Sep  8 02:42:40 2021\n",
            "[xla:3](0) Loss=0.04228 Rate=85.20 GlobalRate=85.20 Time=Wed Sep  8 02:42:40 2021\n",
            "[xla:5](0) Loss=0.03383 Rate=81.07 GlobalRate=81.07 Time=Wed Sep  8 02:42:40 2021\n",
            "[xla:4](0) Loss=0.04682 Rate=74.13 GlobalRate=74.13 Time=Wed Sep  8 02:42:40 2021\n",
            "[xla:2](0) Loss=0.07740 Rate=74.96 GlobalRate=74.96 Time=Wed Sep  8 02:42:40 2021\n",
            "[xla:0](0) Loss=0.06898 Rate=74.97 GlobalRate=74.97 Time=Wed Sep  8 02:42:40 2021\n",
            "[xla:6](0) Loss=0.06156 Rate=68.78 GlobalRate=68.78 Time=Wed Sep  8 02:42:41 2021\n",
            "[xla:7](20) Loss=0.08772 Rate=384.86 GlobalRate=462.43 Time=Wed Sep  8 02:42:44 2021\n",
            "[xla:5](20) Loss=0.08801 Rate=392.33 GlobalRate=459.75 Time=Wed Sep  8 02:42:44 2021\n",
            "[xla:1](20) Loss=0.02232 Rate=386.62 GlobalRate=462.99 Time=Wed Sep  8 02:42:44 2021\n",
            "[xla:3](20) Loss=0.10916 Rate=381.19 GlobalRate=453.48 Time=Wed Sep  8 02:42:45 2021\n",
            "[xla:2](20) Loss=0.09075 Rate=397.40 GlobalRate=456.51 Time=Wed Sep  8 02:42:45 2021\n",
            "[xla:0](20) Loss=0.05692 Rate=395.07 GlobalRate=454.46 Time=Wed Sep  8 02:42:45 2021\n",
            "[xla:4](20) Loss=0.04838 Rate=390.55 GlobalRate=449.29 Time=Wed Sep  8 02:42:45 2021\n",
            "[xla:6](20) Loss=0.01000 Rate=389.11 GlobalRate=440.01 Time=Wed Sep  8 02:42:45 2021\n",
            "[xla:5](40) Loss=0.03031 Rate=514.74 GlobalRate=517.58 Time=Wed Sep  8 02:42:49 2021\n",
            "[xla:0](40) Loss=0.09316 Rate=526.66 GlobalRate=520.56 Time=Wed Sep  8 02:42:49 2021\n",
            "[xla:7](40) Loss=0.02845 Rate=499.00 GlobalRate=511.29 Time=Wed Sep  8 02:42:49 2021\n",
            "[xla:1](40) Loss=0.04142 Rate=503.93 GlobalRate=514.34 Time=Wed Sep  8 02:42:49 2021\n",
            "[xla:4](40) Loss=0.01546 Rate=517.44 GlobalRate=512.75 Time=Wed Sep  8 02:42:49 2021\n",
            "[xla:3](40) Loss=0.06835 Rate=505.62 GlobalRate=510.66 Time=Wed Sep  8 02:42:49 2021\n",
            "[xla:2](40) Loss=0.04024 Rate=509.80 GlobalRate=511.19 Time=Wed Sep  8 02:42:49 2021\n",
            "[xla:6](40) Loss=0.03232 Rate=515.43 GlobalRate=505.68 Time=Wed Sep  8 02:42:49 2021\n",
            "Finished training epoch 5\n",
            "[xla:1] Accuracy=98.49%\n",
            "[xla:7] Accuracy=98.49%\n",
            "[xla:4] Accuracy=98.51%\n",
            "[xla:6] Accuracy=98.49%\n",
            "[xla:5] Accuracy=98.50%\n",
            "[xla:2] Accuracy=98.51%\n",
            "[xla:3] Accuracy=98.50%\n",
            "[xla:0] Accuracy=98.50%\n",
            "[xla:7](0) Loss=0.07938 Rate=93.02 GlobalRate=93.02 Time=Wed Sep  8 02:43:15 2021\n",
            "[xla:1](0) Loss=0.03699 Rate=66.37 GlobalRate=66.37 Time=Wed Sep  8 02:43:15 2021\n",
            "[xla:4](0) Loss=0.04227 Rate=64.12 GlobalRate=64.12 Time=Wed Sep  8 02:43:15 2021\n",
            "[xla:2](0) Loss=0.06928 Rate=63.42 GlobalRate=63.41 Time=Wed Sep  8 02:43:16 2021\n",
            "[xla:6](0) Loss=0.05051 Rate=63.58 GlobalRate=63.58 Time=Wed Sep  8 02:43:16 2021\n",
            "[xla:5](0) Loss=0.02720 Rate=58.81 GlobalRate=58.81 Time=Wed Sep  8 02:43:16 2021\n",
            "[xla:0](0) Loss=0.05957 Rate=54.93 GlobalRate=54.93 Time=Wed Sep  8 02:43:16 2021\n",
            "[xla:3](0) Loss=0.03251 Rate=51.68 GlobalRate=51.68 Time=Wed Sep  8 02:43:16 2021\n",
            "[xla:1](20) Loss=0.01740 Rate=373.17 GlobalRate=422.64 Time=Wed Sep  8 02:43:20 2021\n",
            "[xla:7](20) Loss=0.07674 Rate=348.97 GlobalRate=426.47 Time=Wed Sep  8 02:43:20 2021\n",
            "[xla:4](20) Loss=0.04118 Rate=376.65 GlobalRate=421.82 Time=Wed Sep  8 02:43:20 2021\n",
            "[xla:6](20) Loss=0.00761 Rate=376.79 GlobalRate=420.99 Time=Wed Sep  8 02:43:20 2021\n",
            "[xla:5](20) Loss=0.07933 Rate=379.66 GlobalRate=414.21 Time=Wed Sep  8 02:43:20 2021\n",
            "[xla:2](20) Loss=0.07966 Rate=365.31 GlobalRate=411.21 Time=Wed Sep  8 02:43:20 2021\n",
            "[xla:0](20) Loss=0.05270 Rate=387.73 GlobalRate=411.66 Time=Wed Sep  8 02:43:20 2021\n",
            "[xla:3](20) Loss=0.09824 Rate=392.02 GlobalRate=406.48 Time=Wed Sep  8 02:43:20 2021\n",
            "[xla:7](40) Loss=0.02526 Rate=476.36 GlobalRate=483.07 Time=Wed Sep  8 02:43:24 2021\n",
            "[xla:1](40) Loss=0.03663 Rate=485.89 GlobalRate=480.46 Time=Wed Sep  8 02:43:24 2021\n",
            "[xla:6](40) Loss=0.02998 Rate=500.04 GlobalRate=486.74 Time=Wed Sep  8 02:43:24 2021\n",
            "[xla:5](40) Loss=0.02421 Rate=497.24 GlobalRate=479.84 Time=Wed Sep  8 02:43:24 2021\n",
            "[xla:4](40) Loss=0.01258 Rate=482.18 GlobalRate=476.85 Time=Wed Sep  8 02:43:24 2021\n",
            "[xla:2](40) Loss=0.03758 Rate=474.11 GlobalRate=467.74 Time=Wed Sep  8 02:43:25 2021\n",
            "[xla:0](40) Loss=0.08778 Rate=496.59 GlobalRate=475.90 Time=Wed Sep  8 02:43:25 2021\n",
            "[xla:3](40) Loss=0.05872 Rate=488.32 GlobalRate=466.64 Time=Wed Sep  8 02:43:25 2021\n",
            "Finished training epoch 6\n",
            "[xla:0] Accuracy=98.58%\n",
            "[xla:5] Accuracy=98.57%\n",
            "[xla:7] Accuracy=98.59%\n",
            "[xla:3] Accuracy=98.58%\n",
            "[xla:6] Accuracy=98.57%\n",
            "[xla:2] Accuracy=98.57%\n",
            "[xla:1] Accuracy=98.56%\n",
            "[xla:4] Accuracy=98.57%\n",
            "[xla:5](0) Loss=0.02076 Rate=90.63 GlobalRate=90.63 Time=Wed Sep  8 02:43:46 2021\n",
            "[xla:0](0) Loss=0.05327 Rate=87.41 GlobalRate=87.41 Time=Wed Sep  8 02:43:46 2021\n",
            "[xla:3](0) Loss=0.02686 Rate=79.51 GlobalRate=79.51 Time=Wed Sep  8 02:43:46 2021\n",
            "[xla:6](0) Loss=0.04637 Rate=79.87 GlobalRate=79.87 Time=Wed Sep  8 02:43:46 2021\n",
            "[xla:7](0) Loss=0.07059 Rate=75.48 GlobalRate=75.48 Time=Wed Sep  8 02:43:47 2021\n",
            "[xla:2](0) Loss=0.06708 Rate=68.35 GlobalRate=68.35 Time=Wed Sep  8 02:43:47 2021\n",
            "[xla:1](0) Loss=0.02832 Rate=60.56 GlobalRate=60.56 Time=Wed Sep  8 02:43:47 2021\n",
            "[xla:4](0) Loss=0.03910 Rate=58.48 GlobalRate=58.48 Time=Wed Sep  8 02:43:47 2021\n",
            "[xla:5](20) Loss=0.07010 Rate=378.64 GlobalRate=455.71 Time=Wed Sep  8 02:43:51 2021\n",
            "[xla:0](20) Loss=0.04854 Rate=367.17 GlobalRate=441.52 Time=Wed Sep  8 02:43:51 2021\n",
            "[xla:3](20) Loss=0.08997 Rate=376.29 GlobalRate=442.93 Time=Wed Sep  8 02:43:51 2021\n",
            "[xla:7](20) Loss=0.06644 Rate=379.32 GlobalRate=440.99 Time=Wed Sep  8 02:43:51 2021\n",
            "[xla:2](20) Loss=0.06734 Rate=390.15 GlobalRate=440.19 Time=Wed Sep  8 02:43:51 2021\n",
            "[xla:6](20) Loss=0.00611 Rate=364.34 GlobalRate=431.90 Time=Wed Sep  8 02:43:51 2021\n",
            "[xla:4](20) Loss=0.03447 Rate=399.24 GlobalRate=428.32 Time=Wed Sep  8 02:43:51 2021\n",
            "[xla:1](20) Loss=0.01482 Rate=384.02 GlobalRate=421.13 Time=Wed Sep  8 02:43:51 2021\n",
            "[xla:5](40) Loss=0.01904 Rate=491.33 GlobalRate=503.76 Time=Wed Sep  8 02:43:55 2021\n",
            "[xla:3](40) Loss=0.05066 Rate=491.94 GlobalRate=496.62 Time=Wed Sep  8 02:43:55 2021\n",
            "[xla:2](40) Loss=0.03490 Rate=500.47 GlobalRate=496.68 Time=Wed Sep  8 02:43:55 2021\n",
            "[xla:7](40) Loss=0.02147 Rate=489.69 GlobalRate=493.22 Time=Wed Sep  8 02:43:56 2021\n",
            "[xla:0](40) Loss=0.08142 Rate=477.89 GlobalRate=489.18 Time=Wed Sep  8 02:43:56 2021\n",
            "[xla:6](40) Loss=0.02747 Rate=486.19 GlobalRate=488.85 Time=Wed Sep  8 02:43:56 2021\n",
            "[xla:4](40) Loss=0.01063 Rate=507.98 GlobalRate=491.12 Time=Wed Sep  8 02:43:56 2021\n",
            "[xla:1](40) Loss=0.03341 Rate=495.28 GlobalRate=482.43 Time=Wed Sep  8 02:43:56 2021\n",
            "Finished training epoch 7\n",
            "[xla:4] Accuracy=98.66%\n",
            "[xla:1] Accuracy=98.67%\n",
            "[xla:0] Accuracy=98.66%\n",
            "[xla:6] Accuracy=98.67%\n",
            "[xla:7] Accuracy=98.66%\n",
            "[xla:2] Accuracy=98.68%\n",
            "[xla:3] Accuracy=98.65%\n",
            "[xla:5] Accuracy=98.65%\n",
            "[xla:1](0) Loss=0.02300 Rate=89.63 GlobalRate=89.63 Time=Wed Sep  8 02:44:17 2021\n",
            "[xla:0](0) Loss=0.04787 Rate=83.84 GlobalRate=83.84 Time=Wed Sep  8 02:44:17 2021\n",
            "[xla:4](0) Loss=0.03547 Rate=80.51 GlobalRate=80.51 Time=Wed Sep  8 02:44:17 2021\n",
            "[xla:6](0) Loss=0.04313 Rate=76.71 GlobalRate=76.71 Time=Wed Sep  8 02:44:17 2021\n",
            "[xla:7](0) Loss=0.06269 Rate=74.13 GlobalRate=74.13 Time=Wed Sep  8 02:44:17 2021\n",
            "[xla:2](0) Loss=0.06313 Rate=68.98 GlobalRate=68.98 Time=Wed Sep  8 02:44:18 2021\n",
            "[xla:3](0) Loss=0.02253 Rate=67.52 GlobalRate=67.52 Time=Wed Sep  8 02:44:18 2021\n",
            "[xla:5](0) Loss=0.01621 Rate=60.24 GlobalRate=60.24 Time=Wed Sep  8 02:44:18 2021\n",
            "[xla:1](20) Loss=0.01233 Rate=379.54 GlobalRate=455.80 Time=Wed Sep  8 02:44:22 2021\n",
            "[xla:0](20) Loss=0.04476 Rate=379.16 GlobalRate=450.19 Time=Wed Sep  8 02:44:22 2021\n",
            "[xla:7](20) Loss=0.05916 Rate=388.97 GlobalRate=447.89 Time=Wed Sep  8 02:44:22 2021\n",
            "[xla:4](20) Loss=0.03015 Rate=368.19 GlobalRate=436.25 Time=Wed Sep  8 02:44:22 2021\n",
            "[xla:3](20) Loss=0.08158 Rate=384.30 GlobalRate=433.92 Time=Wed Sep  8 02:44:22 2021\n",
            "[xla:6](20) Loss=0.00469 Rate=364.79 GlobalRate=428.98 Time=Wed Sep  8 02:44:22 2021\n",
            "[xla:2](20) Loss=0.05703 Rate=366.87 GlobalRate=421.13 Time=Wed Sep  8 02:44:22 2021\n",
            "[xla:5](20) Loss=0.06135 Rate=390.58 GlobalRate=425.59 Time=Wed Sep  8 02:44:22 2021\n",
            "[xla:7](40) Loss=0.01939 Rate=524.56 GlobalRate=516.31 Time=Wed Sep  8 02:44:26 2021\n",
            "[xla:1](40) Loss=0.03050 Rate=496.72 GlobalRate=507.02 Time=Wed Sep  8 02:44:26 2021\n",
            "[xla:0](40) Loss=0.07619 Rate=498.95 GlobalRate=504.92 Time=Wed Sep  8 02:44:26 2021\n",
            "[xla:4](40) Loss=0.00950 Rate=498.85 GlobalRate=498.36 Time=Wed Sep  8 02:44:26 2021\n",
            "[xla:3](40) Loss=0.04280 Rate=503.85 GlobalRate=495.95 Time=Wed Sep  8 02:44:26 2021\n",
            "[xla:6](40) Loss=0.02508 Rate=487.74 GlobalRate=487.75 Time=Wed Sep  8 02:44:27 2021\n",
            "[xla:2](40) Loss=0.03359 Rate=497.98 GlobalRate=487.91 Time=Wed Sep  8 02:44:27 2021\n",
            "[xla:5](40) Loss=0.01652 Rate=498.42 GlobalRate=485.71 Time=Wed Sep  8 02:44:27 2021\n",
            "Finished training epoch 8\n",
            "[xla:2] Accuracy=98.72%\n",
            "[xla:1] Accuracy=98.71%\n",
            "[xla:0] Accuracy=98.72%\n",
            "[xla:4] Accuracy=98.72%\n",
            "[xla:7] Accuracy=98.71%\n",
            "[xla:3] Accuracy=98.73%\n",
            "[xla:6] Accuracy=98.71%\n",
            "[xla:5] Accuracy=98.71%\n",
            "[xla:2](0) Loss=0.05728 Rate=86.25 GlobalRate=86.25 Time=Wed Sep  8 02:44:49 2021\n",
            "[xla:4](0) Loss=0.03034 Rate=80.35 GlobalRate=80.35 Time=Wed Sep  8 02:44:49 2021\n",
            "[xla:3](0) Loss=0.01874 Rate=76.03 GlobalRate=76.03 Time=Wed Sep  8 02:44:49 2021\n",
            "[xla:6](0) Loss=0.03856 Rate=76.93 GlobalRate=76.93 Time=Wed Sep  8 02:44:49 2021\n",
            "[xla:1](0) Loss=0.01858 Rate=76.06 GlobalRate=76.05 Time=Wed Sep  8 02:44:49 2021\n",
            "[xla:0](0) Loss=0.04552 Rate=74.49 GlobalRate=74.49 Time=Wed Sep  8 02:44:49 2021\n",
            "[xla:7](0) Loss=0.05660 Rate=76.39 GlobalRate=76.39 Time=Wed Sep  8 02:44:49 2021\n",
            "[xla:5](0) Loss=0.01408 Rate=67.60 GlobalRate=67.60 Time=Wed Sep  8 02:44:49 2021\n",
            "[xla:4](20) Loss=0.02636 Rate=398.71 GlobalRate=464.78 Time=Wed Sep  8 02:44:53 2021\n",
            "[xla:2](20) Loss=0.04763 Rate=383.72 GlobalRate=456.95 Time=Wed Sep  8 02:44:53 2021\n",
            "[xla:6](20) Loss=0.00382 Rate=389.04 GlobalRate=451.68 Time=Wed Sep  8 02:44:53 2021\n",
            "[xla:3](20) Loss=0.07628 Rate=388.68 GlobalRate=450.18 Time=Wed Sep  8 02:44:53 2021\n",
            "[xla:0](20) Loss=0.04242 Rate=385.17 GlobalRate=445.00 Time=Wed Sep  8 02:44:53 2021\n",
            "[xla:7](20) Loss=0.05236 Rate=385.90 GlobalRate=448.14 Time=Wed Sep  8 02:44:53 2021\n",
            "[xla:1](20) Loss=0.01066 Rate=381.53 GlobalRate=443.74 Time=Wed Sep  8 02:44:53 2021\n",
            "[xla:5](20) Loss=0.05511 Rate=382.96 GlobalRate=432.91 Time=Wed Sep  8 02:44:54 2021\n",
            "[xla:4](40) Loss=0.00859 Rate=510.77 GlobalRate=516.74 Time=Wed Sep  8 02:44:57 2021\n",
            "[xla:2](40) Loss=0.03214 Rate=505.85 GlobalRate=512.42 Time=Wed Sep  8 02:44:58 2021\n",
            "[xla:6](40) Loss=0.02368 Rate=507.30 GlobalRate=508.59 Time=Wed Sep  8 02:44:58 2021\n",
            "[xla:3](40) Loss=0.03811 Rate=507.34 GlobalRate=507.73 Time=Wed Sep  8 02:44:58 2021\n",
            "[xla:7](40) Loss=0.01734 Rate=502.95 GlobalRate=504.40 Time=Wed Sep  8 02:44:58 2021\n",
            "[xla:1](40) Loss=0.02657 Rate=498.04 GlobalRate=499.60 Time=Wed Sep  8 02:44:58 2021\n",
            "[xla:0](40) Loss=0.07237 Rate=496.68 GlobalRate=498.68 Time=Wed Sep  8 02:44:58 2021\n",
            "[xla:5](40) Loss=0.01493 Rate=502.64 GlobalRate=494.88 Time=Wed Sep  8 02:44:58 2021\n",
            "Finished training epoch 9\n",
            "[xla:6] Accuracy=98.78%\n",
            "[xla:2] Accuracy=98.78%\n",
            "[xla:7] Accuracy=98.80%\n",
            "[xla:4] Accuracy=98.79%\n",
            "[xla:5] Accuracy=98.79%\n",
            "[xla:1] Accuracy=98.79%\n",
            "[xla:3] Accuracy=98.78%\n",
            "[xla:0] Accuracy=98.79%\n",
            "[xla:6](0) Loss=0.03574 Rate=100.11 GlobalRate=100.11 Time=Wed Sep  8 02:45:19 2021\n",
            "[xla:7](0) Loss=0.05118 Rate=93.52 GlobalRate=93.52 Time=Wed Sep  8 02:45:19 2021\n",
            "[xla:2](0) Loss=0.05028 Rate=86.81 GlobalRate=86.81 Time=Wed Sep  8 02:45:19 2021\n",
            "[xla:5](0) Loss=0.01259 Rate=75.89 GlobalRate=75.89 Time=Wed Sep  8 02:45:19 2021\n",
            "[xla:4](0) Loss=0.02486 Rate=75.40 GlobalRate=75.40 Time=Wed Sep  8 02:45:19 2021\n",
            "[xla:3](0) Loss=0.01608 Rate=70.26 GlobalRate=70.26 Time=Wed Sep  8 02:45:19 2021\n",
            "[xla:0](0) Loss=0.03989 Rate=70.12 GlobalRate=70.12 Time=Wed Sep  8 02:45:19 2021\n",
            "[xla:1](0) Loss=0.01645 Rate=68.51 GlobalRate=68.51 Time=Wed Sep  8 02:45:19 2021\n",
            "[xla:6](20) Loss=0.00349 Rate=393.21 GlobalRate=477.62 Time=Wed Sep  8 02:45:23 2021\n",
            "[xla:7](20) Loss=0.04548 Rate=389.03 GlobalRate=468.54 Time=Wed Sep  8 02:45:23 2021\n",
            "[xla:2](20) Loss=0.03911 Rate=383.85 GlobalRate=457.61 Time=Wed Sep  8 02:45:23 2021\n",
            "[xla:0](20) Loss=0.03764 Rate=396.84 GlobalRate=448.71 Time=Wed Sep  8 02:45:24 2021\n",
            "[xla:3](20) Loss=0.07133 Rate=394.16 GlobalRate=446.67 Time=Wed Sep  8 02:45:24 2021\n",
            "[xla:1](20) Loss=0.00946 Rate=396.64 GlobalRate=445.89 Time=Wed Sep  8 02:45:24 2021\n",
            "[xla:4](20) Loss=0.02362 Rate=381.96 GlobalRate=443.29 Time=Wed Sep  8 02:45:24 2021\n",
            "[xla:5](20) Loss=0.04722 Rate=382.69 GlobalRate=444.58 Time=Wed Sep  8 02:45:24 2021\n",
            "[xla:6](40) Loss=0.02094 Rate=511.27 GlobalRate=526.54 Time=Wed Sep  8 02:45:27 2021\n",
            "[xla:7](40) Loss=0.01596 Rate=508.03 GlobalRate=519.83 Time=Wed Sep  8 02:45:28 2021\n",
            "[xla:2](40) Loss=0.03020 Rate=502.28 GlobalRate=510.58 Time=Wed Sep  8 02:45:28 2021\n",
            "[xla:1](40) Loss=0.02394 Rate=519.09 GlobalRate=510.01 Time=Wed Sep  8 02:45:28 2021\n",
            "[xla:0](40) Loss=0.06929 Rate=514.74 GlobalRate=509.27 Time=Wed Sep  8 02:45:28 2021\n",
            "[xla:5](40) Loss=0.01320 Rate=507.65 GlobalRate=505.68 Time=Wed Sep  8 02:45:28 2021\n",
            "[xla:4](40) Loss=0.00809 Rate=504.54 GlobalRate=503.14 Time=Wed Sep  8 02:45:28 2021\n",
            "[xla:3](40) Loss=0.03402 Rate=507.14 GlobalRate=503.99 Time=Wed Sep  8 02:45:28 2021\n",
            "Finished training epoch 10\n",
            "[xla:1] Accuracy=98.80%\n",
            "[xla:4] Accuracy=98.82%\n",
            "[xla:7] Accuracy=98.81%\n",
            "[xla:5] Accuracy=98.78%\n",
            "[xla:6] Accuracy=98.79%\n",
            "[xla:3] Accuracy=98.81%\n",
            "[xla:0] Accuracy=98.81%\n",
            "[xla:2] Accuracy=98.83%\n"
          ]
        }
      ]
    },
    {
      "cell_type": "markdown",
      "metadata": {
        "id": "MznTE72_mthI"
      },
      "source": [
        "## Visualize Predictions"
      ]
    },
    {
      "cell_type": "code",
      "metadata": {
        "id": "X9VAwyUnI7Sb",
        "colab": {
          "base_uri": "https://localhost:8080/",
          "height": 531
        },
        "outputId": "027b257d-d9a7-4564-80d2-f91fa99d9473"
      },
      "source": [
        "from google.colab.patches import cv2_imshow\n",
        "import cv2\n",
        "img = cv2.imread(RESULT_IMG_PATH, cv2.IMREAD_UNCHANGED)\n",
        "cv2_imshow(img)"
      ],
      "execution_count": 10,
      "outputs": [
        {
          "output_type": "display_data",
          "data": {
            "image/png": "[encoded data removed]",
            "text/plain": [
              "<PIL.Image.Image image mode=RGBA size=792x648 at 0x7F93DEA821D0>"
            ]
          },
          "metadata": {}
        }
      ]
    },
    {
      "cell_type": "code",
      "metadata": {
        "id": "ypuFFWtwR5KC",
        "outputId": "3a9b108f-6114-439b-d718-c4aca14fbf6e",
        "colab": {
          "base_uri": "https://localhost:8080/"
        }
      },
      "source": [
        "!https://github.com/Harrypotterrrr/DVD-GAN"
      ],
      "execution_count": 9,
      "outputs": [
        {
          "output_type": "stream",
          "name": "stdout",
          "text": [
            "NVIDIA-SMI has failed because it couldn't communicate with the NVIDIA driver. Make sure that the latest NVIDIA driver is installed and running.\n",
            "\n"
          ]
        }
      ]
    },
    {
      "cell_type": "code",
      "metadata": {
        "id": "aB6tlBcjSAqa",
        "outputId": "3c9d4bf6-9b19-43aa-dfcc-1a335cee3a73",
        "colab": {
          "base_uri": "https://localhost:8080/"
        }
      },
      "source": [
        "!git clone https://github.com/Harrypotterrrr/DVD-GAN"
      ],
      "execution_count": 12,
      "outputs": [
        {
          "output_type": "stream",
          "name": "stdout",
          "text": [
            "Cloning into 'DVD-GAN'...\n",
            "remote: Enumerating objects: 481, done.\u001b[K\n",
            "remote: Counting objects: 100% (59/59), done.\u001b[K\n",
            "remote: Compressing objects: 100% (39/39), done.\u001b[K\n",
            "remote: Total 481 (delta 32), reused 41 (delta 20), pack-reused 422\u001b[K\n",
            "Receiving objects: 100% (481/481), 113.94 KiB | 2.48 MiB/s, done.\n",
            "Resolving deltas: 100% (298/298), done.\n"
          ]
        }
      ]
    },
    {
      "cell_type": "code",
      "metadata": {
        "id": "jWD2MiXNX4l-",
        "outputId": "8b6bb7a0-b8c5-4559-971e-6b0a6baf6264",
        "colab": {
          "base_uri": "https://localhost:8080/"
        }
      },
      "source": [
        "%cd /content/DVD-GAN\n",
        "!bash scripts/data_prepare.sh"
      ],
      "execution_count": 24,
      "outputs": [
        {
          "output_type": "stream",
          "name": "stdout",
          "text": [
            "/content/DVD-GAN\n",
            "using only one class: PlayingViolin\n"
          ]
        }
      ]
    },
    {
      "cell_type": "code",
      "metadata": {
        "id": "KMpBQTHKZjCx",
        "outputId": "5f89c4bd-2d1e-43ff-f80a-2a364f329334",
        "colab": {
          "base_uri": "https://localhost:8080/"
        }
      },
      "source": [
        "!bash /content/DVD-GAN/scripts/download_annotations.sh /UCF101"
      ],
      "execution_count": 17,
      "outputs": [
        {
          "output_type": "stream",
          "name": "stdout",
          "text": [
            "Archive:  UCF101TrainTestSplits-RecognitionTask.zip\n",
            "   creating: ucfTrainTestlist/\n",
            "  inflating: ucfTrainTestlist/classInd.txt  \n",
            "  inflating: ucfTrainTestlist/testlist01.txt  \n",
            "  inflating: ucfTrainTestlist/testlist02.txt  \n",
            "  inflating: ucfTrainTestlist/testlist03.txt  \n",
            "  inflating: ucfTrainTestlist/trainlist01.txt  \n",
            "  inflating: ucfTrainTestlist/trainlist02.txt  \n",
            "  inflating: ucfTrainTestlist/trainlist03.txt  \n"
          ]
        }
      ]
    },
    {
      "cell_type": "code",
      "metadata": {
        "id": "nPOMi2p54lz2",
        "outputId": "8bc0b772-d5c5-4cad-eb51-69b59e5270a3",
        "colab": {
          "base_uri": "https://localhost:8080/"
        }
      },
      "source": [
        "!scripts/train_model.sh GCP /"
      ],
      "execution_count": null,
      "outputs": [
        {
          "output_type": "stream",
          "name": "stdout",
          "text": [
            "python3.7 main.py --adv_loss hinge --parallel True --gpus 0 1 2 3 --num_workers 16 --use_tensorboard True --ds_chn 64 --dt_chn 64 --g_chn 64 --n_frames 8 --k_sample 4 --batch_size 40 --n_class 1 --root_path //UCF101 --annotation_path annotations/ucf101_01.json --log_path ~/outputs/logs --model_save_path ~/outputs/models --sample_path ~/outputs/samples\n",
            "WARNING:root:TPU has started up successfully with version pytorch-1.9\n",
            "model = dvd-gan\n",
            "adv_loss = hinge\n",
            "imsize = 128\n",
            "g_num = 5\n",
            "g_chn = 64\n",
            "z_dim = 120\n",
            "ds_chn = 64\n",
            "dt_chn = 64\n",
            "g_conv_dim = 64\n",
            "d_conv_dim = 64\n",
            "lambda_gp = 10\n",
            "lr_schr = const\n",
            "version = \n",
            "total_epoch = 100000\n",
            "d_iters = 1\n",
            "g_iters = 1\n",
            "batch_size = 40\n",
            "num_workers = 16\n",
            "g_lr = 5e-05\n",
            "d_lr = 5e-05\n",
            "lr_decay = 0.9999\n",
            "beta1 = 0.0\n",
            "beta2 = 0.9\n",
            "pretrained_model = None\n",
            "train = True\n",
            "parallel = True\n",
            "gpus = ['0', '1', '2', '3']\n",
            "dataset = ucf101\n",
            "use_tensorboard = True\n",
            "n_class = 1\n",
            "k_sample = 4\n",
            "n_frames = 8\n",
            "test_batch_size = 8\n",
            "image_path = ./data\n",
            "log_path = ~/outputs/logs\n",
            "model_save_path = ~/outputs/models\n",
            "sample_path = ~/outputs/samples\n",
            "log_epoch = 1\n",
            "sample_epoch = 20\n",
            "model_save_epoch = 200\n",
            "norm_value = 255\n",
            "no_mean_norm = True\n",
            "std_norm = False\n",
            "mean_dataset = activitynet\n",
            "root_path = //UCF101\n",
            "video_path = videos_jpeg\n",
            "annotation_path = annotations/ucf101_01.json\n",
            "train_crop = corner\n",
            "sample_size = 64\n",
            "initial_scale = 1.0\n",
            "n_scales = 5\n",
            "scale_step = 0.84089641525\n",
            "============================== \n",
            "Loading data...\n",
            "dataset loading [0/9537]\n",
            "dataset loading [1000/9537]\n",
            "dataset loading [2000/9537]\n",
            "dataset loading [3000/9537]\n",
            "dataset loading [4000/9537]\n",
            "dataset loading [5000/9537]\n",
            "dataset loading [6000/9537]\n",
            "dataset loading [7000/9537]\n",
            "dataset loading [8000/9537]\n",
            "dataset loading [9000/9537]\n",
            "/usr/local/lib/python3.7/dist-packages/torch/utils/data/dataloader.py:481: UserWarning: This DataLoader will create 16 worker processes in total. Our suggested max number of worker in current system is 2, which is smaller than what this DataLoader is going to create. Please be aware that excessive worker creation might get DataLoader running slow or even freeze, lower the worker number to avoid potential slowness/freeze if necessary.\n",
            "  cpuset_checked))\n",
            "number class: 1\n",
            "============================== \n",
            "Build_model...\n"
          ]
        }
      ]
    },
    {
      "cell_type": "code",
      "metadata": {
        "id": "DAIBzu0d8h92",
        "outputId": "838973ff-277c-4661-c7e1-99b9ec72ec4f",
        "colab": {
          "base_uri": "https://localhost:8080/"
        }
      },
      "source": [
        "!pip install tensorboardX==1.8"
      ],
      "execution_count": 40,
      "outputs": [
        {
          "output_type": "stream",
          "name": "stdout",
          "text": [
            "Collecting tensorboardX==1.8\n",
            "  Downloading tensorboardX-1.8-py2.py3-none-any.whl (216 kB)\n",
            "\u001b[?25l\r\u001b[K     |█▌                              | 10 kB 18.7 MB/s eta 0:00:01\r\u001b[K     |███                             | 20 kB 25.1 MB/s eta 0:00:01\r\u001b[K     |████▌                           | 30 kB 12.3 MB/s eta 0:00:01\r\u001b[K     |██████                          | 40 kB 9.4 MB/s eta 0:00:01\r\u001b[K     |███████▋                        | 51 kB 5.3 MB/s eta 0:00:01\r\u001b[K     |█████████                       | 61 kB 5.2 MB/s eta 0:00:01\r\u001b[K     |██████████▋                     | 71 kB 5.6 MB/s eta 0:00:01\r\u001b[K     |████████████▏                   | 81 kB 6.2 MB/s eta 0:00:01\r\u001b[K     |█████████████▋                  | 92 kB 4.7 MB/s eta 0:00:01\r\u001b[K     |███████████████▏                | 102 kB 5.1 MB/s eta 0:00:01\r\u001b[K     |████████████████▊               | 112 kB 5.1 MB/s eta 0:00:01\r\u001b[K     |██████████████████▏             | 122 kB 5.1 MB/s eta 0:00:01\r\u001b[K     |███████████████████▊            | 133 kB 5.1 MB/s eta 0:00:01\r\u001b[K     |█████████████████████▏          | 143 kB 5.1 MB/s eta 0:00:01\r\u001b[K     |██████████████████████▊         | 153 kB 5.1 MB/s eta 0:00:01\r\u001b[K     |████████████████████████▎       | 163 kB 5.1 MB/s eta 0:00:01\r\u001b[K     |█████████████████████████▊      | 174 kB 5.1 MB/s eta 0:00:01\r\u001b[K     |███████████████████████████▎    | 184 kB 5.1 MB/s eta 0:00:01\r\u001b[K     |████████████████████████████▉   | 194 kB 5.1 MB/s eta 0:00:01\r\u001b[K     |██████████████████████████████▎ | 204 kB 5.1 MB/s eta 0:00:01\r\u001b[K     |███████████████████████████████▉| 215 kB 5.1 MB/s eta 0:00:01\r\u001b[K     |████████████████████████████████| 216 kB 5.1 MB/s \n",
            "\u001b[?25hRequirement already satisfied: six in /usr/local/lib/python3.7/dist-packages (from tensorboardX==1.8) (1.15.0)\n",
            "Requirement already satisfied: protobuf>=3.2.0 in /usr/local/lib/python3.7/dist-packages (from tensorboardX==1.8) (3.17.3)\n",
            "Requirement already satisfied: numpy in /usr/local/lib/python3.7/dist-packages (from tensorboardX==1.8) (1.19.5)\n",
            "Installing collected packages: tensorboardX\n",
            "Successfully installed tensorboardX-1.8\n"
          ]
        }
      ]
    },
    {
      "cell_type": "code",
      "metadata": {
        "id": "HjYk00zB9TYn",
        "outputId": "953dd29c-8fa8-41e6-9d7c-b95f5c19ffb3",
        "colab": {
          "base_uri": "https://localhost:8080/"
        }
      },
      "source": [
        "torch"
      ],
      "execution_count": 37,
      "outputs": [
        {
          "output_type": "execute_result",
          "data": {
            "text/plain": [
              "<module 'torch' from '/usr/local/lib/python3.7/dist-packages/torch/__init__.py'>"
            ]
          },
          "metadata": {},
          "execution_count": 37
        }
      ]
    },
    {
      "cell_type": "code",
      "metadata": {
        "id": "RdA83LMe9gNn"
      },
      "source": [
        ""
      ],
      "execution_count": null,
      "outputs": []
    }
  ]
}